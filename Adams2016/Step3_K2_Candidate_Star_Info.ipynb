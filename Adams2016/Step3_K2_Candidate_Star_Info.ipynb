{
 "cells": [
  {
   "cell_type": "code",
   "execution_count": 3,
   "metadata": {
    "collapsed": true
   },
   "outputs": [],
   "source": [
    "# This is the 3rd step!\n",
    "# 1. The transit search was run from the command line with e.g.:\n",
    "#\n",
    "#    python k2_superpig_search.py --fl step0-inputs/alltest > step1-eebls-results/alltest_results_2016May19.txt\n",
    "#\n",
    "#    (If you need to create the input (alltest), there is a cell below to help\n",
    "#     ince ls * > file won't work on more than a few 1000 files)\n",
    "#\n",
    "# 2. This notebook (Step2_K2_Identify_Candidates) identifies candidate planets\n",
    "#\n",
    "# 3. This notebook (Step3_K2_Candidate_Star_Info) uses several sources to compile\n",
    "#     information on the stars, which you will need for the fitting step.\n",
    "#\n",
    "# Note: heavily edited on 4/13/16 to account for MAST *finally* having gotten Teff values\n",
    "# \n",
    "%matplotlib inline\n",
    "\n",
    "#import modules, including the codes used in this study\n",
    "import numpy as np\n",
    "import pylab\n",
    "import matplotlib.pyplot as plt\n",
    "from scipy import interpolate\n",
    "import math\n",
    "import string\n",
    "import glob\n",
    "import os\n",
    "from uncertainties import ufloat\n",
    "from uncertainties import umath\n",
    "\n",
    "# our package\n",
    "import k2_superpig_search as k2_sppg"
   ]
  },
  {
   "cell_type": "code",
   "execution_count": 4,
   "metadata": {
    "collapsed": false
   },
   "outputs": [],
   "source": [
    "######### Locations\n",
    "# Analysis dir:\n",
    "superpig_dir = os.getcwd()\n",
    "# Results from previous steps:\n",
    "step0_dir = \"step0-inputs/\"\n",
    "step1_dir = \"step1-eebls-results/\"\n",
    "step2_dir = \"step2-candidate-results/\"\n",
    "# Results from this step should go:\n",
    "results_dir = \"step3-candidate-stars/\""
   ]
  },
  {
   "cell_type": "code",
   "execution_count": 5,
   "metadata": {
    "collapsed": false
   },
   "outputs": [],
   "source": [
    "### Read in a presorted folder and follow everything in it\n",
    "def files_in_folder(folder,matchString=\"hlsp_k2sff_k2_lightcurve_*.png\"):\n",
    "    filelist = glob.glob(folder + matchString)\n",
    "    objList=[]\n",
    "    for ff in filelist:\n",
    "        obj = string.replace(string.split(string.replace(ff,folder,\"\"),\"-\")[0], \"hlsp_k2sff_k2_lightcurve_\",\"\")\n",
    "        objList.append(int(obj))\n",
    "    return objList"
   ]
  },
  {
   "cell_type": "code",
   "execution_count": 6,
   "metadata": {
    "collapsed": false
   },
   "outputs": [
    {
     "name": "stdout",
     "output_type": "stream",
     "text": [
      "[201264302, 201606542, 201637175, 201650711, 202094740, 203533312, 205152172, 206103150, 206151047, 206169375, 206298289, 206417197, 210414957, 210605073, 210707130, 210754505, 210954046, 210961508, 211152484, 211357309, 211685045, 211995325, 212150006]\n",
      "23\n"
     ]
    }
   ],
   "source": [
    "###### We are ASSUMING that all transits have been identified in Step 2\n",
    "###### and are located in the promisng directory \n",
    "follow_list=[]\n",
    "all_quarters = [\"c00\", \"c01\", \"c02\", \"c03\", \"c04\", \"c05\"]\n",
    "for qq in all_quarters: # can do more than one quarter at a time\n",
    "    match = step2_dir+\"promising-\"+qq+\"*\"\n",
    "    matching = glob.glob(match)\n",
    "    promising_dir = matching[0]\n",
    "    candidate_list = files_in_folder(promising_dir+\"/_transit-like/\")\n",
    "    follow_list=follow_list+candidate_list\n",
    "follow_list= sorted(follow_list)\n",
    "\n",
    "print follow_list\n",
    "print len(follow_list)"
   ]
  },
  {
   "cell_type": "markdown",
   "metadata": {},
   "source": [
    "# Query MAST for star params (where available)"
   ]
  },
  {
   "cell_type": "code",
   "execution_count": 7,
   "metadata": {
    "collapsed": false
   },
   "outputs": [],
   "source": [
    "import kplr"
   ]
  },
  {
   "cell_type": "code",
   "execution_count": 8,
   "metadata": {
    "collapsed": false
   },
   "outputs": [],
   "source": [
    "#### Load Kepler API (the kplr package)\n",
    "####   The API is a way to query an online database (e.g., MAST) for information in an automated way\n",
    "####   Since values on MAST are updated regularly, it is recommended that you take caution when re-running this code\n",
    "####   in case something unexpectedly changes because, say, the transit parameters are different than last time.\n",
    "#### You can use the API to:\n",
    "####    get information on planets and their host stars\n",
    "####    download lightcurve data from the MAST database\n",
    "#### Possible values for planet info are found at:\n",
    "####     http://exoplanetarchive.ipac.caltech.edu/docs/API_kepcandidate_columns.html\n",
    "client = kplr.API()\n",
    "\n",
    "#star = client.k2_star(202137899)\n",
    "#help(client.k2_star)"
   ]
  },
  {
   "cell_type": "code",
   "execution_count": 12,
   "metadata": {
    "collapsed": true
   },
   "outputs": [],
   "source": [
    "# I really reeally need to learn how to suppress these stupid \n",
    "# \"Unrecognized parameter\" warnings from MAST\n",
    "# Because this doesn't work:\n",
    "import warnings\n",
    "warnings.filterwarnings('ignore')"
   ]
  },
  {
   "cell_type": "code",
   "execution_count": 8,
   "metadata": {
    "collapsed": false
   },
   "outputs": [],
   "source": [
    "# One off checking of specific target\n",
    "# Planet Hunters: \n",
    "#  http://talk.planethunters.org/#/boards/BPH0000007/discussions/DPH00019on?page=1&comment_id=563919c41cd2282bb3000137\n",
    "# Planets: 211623903, 211685045, 212150006, \n",
    "# EBs: 211578677, 211685048, 211953866, 211978865, 211995966, 211999656, 212155299, 212158225 \n",
    "# (\"212158225 Period about 0.1333 days, depth 0.0005, duration about 1.5 hours. It coiuld also be a very short period PC.\")\n",
    "# Other: 211934173 looks like an EB, but the period is not constant, I don't know what's going on here???\n",
    "# Not listed: 211357309, 211995325\n",
    "\n",
    "#check=[211357309, 211578677, 211623903, 211685045, 211685048, 211934173, 211953866, 211978865, 211995325,\n",
    "#       211995966, 211999656, 212150006, 212155299, 212158225]\n",
    "#for cc in check:\n",
    "#    star = client.k2_star(cc)\n",
    "#    print cc, star.teff, star.kp\n"
   ]
  },
  {
   "cell_type": "markdown",
   "metadata": {},
   "source": [
    "For every object in the followlist, get the information on MAST"
   ]
  },
  {
   "cell_type": "code",
   "execution_count": 11,
   "metadata": {
    "collapsed": false
   },
   "outputs": [
    {
     "name": "stderr",
     "output_type": "stream",
     "text": [
      "WARNING:root:Unrecognized parameter: 'ep_mass'\n",
      "WARNING:root:Unrecognized parameter: 'em_rho'\n",
      "WARNING:root:Unrecognized parameter: 'em_[Fe/H]'\n",
      "WARNING:root:Unrecognized parameter: 'em_d'\n",
      "WARNING:root:Unrecognized parameter: 'ep_E(B-V)'\n",
      "WARNING:root:Unrecognized parameter: 'ep_[Fe/H]'\n",
      "WARNING:root:Unrecognized parameter: 'ep_logg'\n",
      "WARNING:root:Unrecognized parameter: 'em_teff'\n",
      "WARNING:root:Unrecognized parameter: 'em_rad'\n",
      "WARNING:root:Unrecognized parameter: 'em_E(B-V)'\n",
      "WARNING:root:Unrecognized parameter: 'em_logg'\n",
      "WARNING:root:Unrecognized parameter: 'stpropflag'\n",
      "WARNING:root:Unrecognized parameter: 'Data Availability'\n",
      "WARNING:root:Unrecognized parameter: 'ep_rad'\n",
      "WARNING:root:Unrecognized parameter: 'ep_teff'\n",
      "WARNING:root:Unrecognized parameter: 'ep_d'\n",
      "WARNING:root:Unrecognized parameter: 'em_mass'\n",
      "WARNING:root:Unrecognized parameter: 'ep_rho'\n",
      "WARNING:root:Unrecognized parameter: 'ep_mass'\n",
      "WARNING:root:Unrecognized parameter: 'em_rho'\n",
      "WARNING:root:Unrecognized parameter: 'em_[Fe/H]'\n",
      "WARNING:root:Unrecognized parameter: 'em_d'\n",
      "WARNING:root:Unrecognized parameter: 'ep_E(B-V)'\n",
      "WARNING:root:Unrecognized parameter: 'ep_[Fe/H]'\n",
      "WARNING:root:Unrecognized parameter: 'ep_logg'\n",
      "WARNING:root:Unrecognized parameter: 'em_teff'\n",
      "WARNING:root:Unrecognized parameter: 'em_rad'\n",
      "WARNING:root:Unrecognized parameter: 'em_E(B-V)'\n",
      "WARNING:root:Unrecognized parameter: 'em_logg'\n",
      "WARNING:root:Unrecognized parameter: 'stpropflag'\n",
      "WARNING:root:Unrecognized parameter: 'Data Availability'\n",
      "WARNING:root:Unrecognized parameter: 'ep_rad'\n",
      "WARNING:root:Unrecognized parameter: 'ep_teff'\n",
      "WARNING:root:Unrecognized parameter: 'ep_d'\n",
      "WARNING:root:Unrecognized parameter: 'em_mass'\n",
      "WARNING:root:Unrecognized parameter: 'ep_rho'\n",
      "WARNING:root:Unrecognized parameter: 'ep_mass'\n",
      "WARNING:root:Unrecognized parameter: 'em_rho'\n",
      "WARNING:root:Unrecognized parameter: 'em_[Fe/H]'\n",
      "WARNING:root:Unrecognized parameter: 'em_d'\n",
      "WARNING:root:Unrecognized parameter: 'ep_E(B-V)'\n",
      "WARNING:root:Unrecognized parameter: 'ep_[Fe/H]'\n",
      "WARNING:root:Unrecognized parameter: 'ep_logg'\n",
      "WARNING:root:Unrecognized parameter: 'em_teff'\n",
      "WARNING:root:Unrecognized parameter: 'em_rad'\n",
      "WARNING:root:Unrecognized parameter: 'em_E(B-V)'\n",
      "WARNING:root:Unrecognized parameter: 'em_logg'\n",
      "WARNING:root:Unrecognized parameter: 'stpropflag'\n",
      "WARNING:root:Unrecognized parameter: 'Data Availability'\n",
      "WARNING:root:Unrecognized parameter: 'ep_rad'\n",
      "WARNING:root:Unrecognized parameter: 'ep_teff'\n",
      "WARNING:root:Unrecognized parameter: 'ep_d'\n",
      "WARNING:root:Unrecognized parameter: 'em_mass'\n",
      "WARNING:root:Unrecognized parameter: 'ep_rho'\n",
      "WARNING:root:Unrecognized parameter: 'ep_mass'\n",
      "WARNING:root:Unrecognized parameter: 'em_rho'\n",
      "WARNING:root:Unrecognized parameter: 'em_[Fe/H]'\n",
      "WARNING:root:Unrecognized parameter: 'em_d'\n",
      "WARNING:root:Unrecognized parameter: 'ep_E(B-V)'\n",
      "WARNING:root:Unrecognized parameter: 'ep_[Fe/H]'\n",
      "WARNING:root:Unrecognized parameter: 'ep_logg'\n",
      "WARNING:root:Unrecognized parameter: 'em_teff'\n",
      "WARNING:root:Unrecognized parameter: 'em_rad'\n",
      "WARNING:root:Unrecognized parameter: 'em_E(B-V)'\n",
      "WARNING:root:Unrecognized parameter: 'em_logg'\n",
      "WARNING:root:Unrecognized parameter: 'stpropflag'\n",
      "WARNING:root:Unrecognized parameter: 'Data Availability'\n",
      "WARNING:root:Unrecognized parameter: 'ep_rad'\n",
      "WARNING:root:Unrecognized parameter: 'ep_teff'\n",
      "WARNING:root:Unrecognized parameter: 'ep_d'\n",
      "WARNING:root:Unrecognized parameter: 'em_mass'\n",
      "WARNING:root:Unrecognized parameter: 'ep_rho'\n",
      "WARNING:root:Unrecognized parameter: 'ep_mass'\n",
      "WARNING:root:Unrecognized parameter: 'em_rho'\n",
      "WARNING:root:Unrecognized parameter: 'em_[Fe/H]'\n",
      "WARNING:root:Unrecognized parameter: 'em_d'\n",
      "WARNING:root:Unrecognized parameter: 'ep_E(B-V)'\n",
      "WARNING:root:Unrecognized parameter: 'ep_[Fe/H]'\n",
      "WARNING:root:Unrecognized parameter: 'ep_logg'\n",
      "WARNING:root:Unrecognized parameter: 'em_teff'\n",
      "WARNING:root:Unrecognized parameter: 'em_rad'\n",
      "WARNING:root:Unrecognized parameter: 'em_E(B-V)'\n",
      "WARNING:root:Unrecognized parameter: 'em_logg'\n",
      "WARNING:root:Unrecognized parameter: 'stpropflag'\n",
      "WARNING:root:Unrecognized parameter: 'Data Availability'\n",
      "WARNING:root:Unrecognized parameter: 'ep_rad'\n",
      "WARNING:root:Unrecognized parameter: 'ep_teff'\n",
      "WARNING:root:Unrecognized parameter: 'ep_d'\n",
      "WARNING:root:Unrecognized parameter: 'em_mass'\n",
      "WARNING:root:Unrecognized parameter: 'ep_rho'\n",
      "WARNING:root:Unrecognized parameter: 'ep_mass'\n",
      "WARNING:root:Unrecognized parameter: 'em_rho'\n",
      "WARNING:root:Unrecognized parameter: 'em_[Fe/H]'\n",
      "WARNING:root:Unrecognized parameter: 'em_d'\n",
      "WARNING:root:Unrecognized parameter: 'ep_E(B-V)'\n",
      "WARNING:root:Unrecognized parameter: 'ep_[Fe/H]'\n",
      "WARNING:root:Unrecognized parameter: 'ep_logg'\n",
      "WARNING:root:Unrecognized parameter: 'em_teff'\n",
      "WARNING:root:Unrecognized parameter: 'em_rad'\n",
      "WARNING:root:Unrecognized parameter: 'em_E(B-V)'\n",
      "WARNING:root:Unrecognized parameter: 'em_logg'\n",
      "WARNING:root:Unrecognized parameter: 'stpropflag'\n",
      "WARNING:root:Unrecognized parameter: 'Data Availability'\n",
      "WARNING:root:Unrecognized parameter: 'ep_rad'\n",
      "WARNING:root:Unrecognized parameter: 'ep_teff'\n",
      "WARNING:root:Unrecognized parameter: 'ep_d'\n",
      "WARNING:root:Unrecognized parameter: 'em_mass'\n",
      "WARNING:root:Unrecognized parameter: 'ep_rho'\n",
      "WARNING:root:Unrecognized parameter: 'ep_mass'\n",
      "WARNING:root:Unrecognized parameter: 'em_rho'\n",
      "WARNING:root:Unrecognized parameter: 'em_[Fe/H]'\n",
      "WARNING:root:Unrecognized parameter: 'em_d'\n",
      "WARNING:root:Unrecognized parameter: 'ep_E(B-V)'\n",
      "WARNING:root:Unrecognized parameter: 'ep_[Fe/H]'\n",
      "WARNING:root:Unrecognized parameter: 'ep_logg'\n",
      "WARNING:root:Unrecognized parameter: 'em_teff'\n",
      "WARNING:root:Unrecognized parameter: 'em_rad'\n",
      "WARNING:root:Unrecognized parameter: 'em_E(B-V)'\n",
      "WARNING:root:Unrecognized parameter: 'em_logg'\n",
      "WARNING:root:Unrecognized parameter: 'stpropflag'\n",
      "WARNING:root:Unrecognized parameter: 'Data Availability'\n",
      "WARNING:root:Unrecognized parameter: 'ep_rad'\n",
      "WARNING:root:Unrecognized parameter: 'ep_teff'\n",
      "WARNING:root:Unrecognized parameter: 'ep_d'\n",
      "WARNING:root:Unrecognized parameter: 'em_mass'\n",
      "WARNING:root:Unrecognized parameter: 'ep_rho'\n",
      "WARNING:root:Unrecognized parameter: 'ep_mass'\n",
      "WARNING:root:Unrecognized parameter: 'em_rho'\n",
      "WARNING:root:Unrecognized parameter: 'em_[Fe/H]'\n",
      "WARNING:root:Unrecognized parameter: 'em_d'\n",
      "WARNING:root:Unrecognized parameter: 'ep_E(B-V)'\n",
      "WARNING:root:Unrecognized parameter: 'ep_[Fe/H]'\n",
      "WARNING:root:Unrecognized parameter: 'ep_logg'\n",
      "WARNING:root:Unrecognized parameter: 'em_teff'\n",
      "WARNING:root:Unrecognized parameter: 'em_rad'\n",
      "WARNING:root:Unrecognized parameter: 'em_E(B-V)'\n",
      "WARNING:root:Unrecognized parameter: 'em_logg'\n",
      "WARNING:root:Unrecognized parameter: 'stpropflag'\n",
      "WARNING:root:Unrecognized parameter: 'Data Availability'\n",
      "WARNING:root:Unrecognized parameter: 'ep_rad'\n",
      "WARNING:root:Unrecognized parameter: 'ep_teff'\n",
      "WARNING:root:Unrecognized parameter: 'ep_d'\n",
      "WARNING:root:Unrecognized parameter: 'em_mass'\n",
      "WARNING:root:Unrecognized parameter: 'ep_rho'\n",
      "WARNING:root:Unrecognized parameter: 'ep_mass'\n",
      "WARNING:root:Unrecognized parameter: 'em_rho'\n",
      "WARNING:root:Unrecognized parameter: 'em_[Fe/H]'\n",
      "WARNING:root:Unrecognized parameter: 'em_d'\n",
      "WARNING:root:Unrecognized parameter: 'ep_E(B-V)'\n",
      "WARNING:root:Unrecognized parameter: 'ep_[Fe/H]'\n",
      "WARNING:root:Unrecognized parameter: 'ep_logg'\n",
      "WARNING:root:Unrecognized parameter: 'em_teff'\n",
      "WARNING:root:Unrecognized parameter: 'em_rad'\n",
      "WARNING:root:Unrecognized parameter: 'em_E(B-V)'\n",
      "WARNING:root:Unrecognized parameter: 'em_logg'\n",
      "WARNING:root:Unrecognized parameter: 'stpropflag'\n",
      "WARNING:root:Unrecognized parameter: 'Data Availability'\n",
      "WARNING:root:Unrecognized parameter: 'ep_rad'\n",
      "WARNING:root:Unrecognized parameter: 'ep_teff'\n",
      "WARNING:root:Unrecognized parameter: 'ep_d'\n",
      "WARNING:root:Unrecognized parameter: 'em_mass'\n",
      "WARNING:root:Unrecognized parameter: 'ep_rho'\n",
      "WARNING:root:Unrecognized parameter: 'ep_mass'\n",
      "WARNING:root:Unrecognized parameter: 'em_rho'\n",
      "WARNING:root:Unrecognized parameter: 'em_[Fe/H]'\n",
      "WARNING:root:Unrecognized parameter: 'em_d'\n",
      "WARNING:root:Unrecognized parameter: 'ep_E(B-V)'\n",
      "WARNING:root:Unrecognized parameter: 'ep_[Fe/H]'\n",
      "WARNING:root:Unrecognized parameter: 'ep_logg'\n",
      "WARNING:root:Unrecognized parameter: 'em_teff'\n",
      "WARNING:root:Unrecognized parameter: 'em_rad'\n",
      "WARNING:root:Unrecognized parameter: 'em_E(B-V)'\n",
      "WARNING:root:Unrecognized parameter: 'em_logg'\n",
      "WARNING:root:Unrecognized parameter: 'stpropflag'\n",
      "WARNING:root:Unrecognized parameter: 'Data Availability'\n",
      "WARNING:root:Unrecognized parameter: 'ep_rad'\n",
      "WARNING:root:Unrecognized parameter: 'ep_teff'\n",
      "WARNING:root:Unrecognized parameter: 'ep_d'\n",
      "WARNING:root:Unrecognized parameter: 'em_mass'\n",
      "WARNING:root:Unrecognized parameter: 'ep_rho'\n",
      "WARNING:root:Unrecognized parameter: 'ep_mass'\n",
      "WARNING:root:Unrecognized parameter: 'em_rho'\n",
      "WARNING:root:Unrecognized parameter: 'em_[Fe/H]'\n",
      "WARNING:root:Unrecognized parameter: 'em_d'\n",
      "WARNING:root:Unrecognized parameter: 'ep_E(B-V)'\n",
      "WARNING:root:Unrecognized parameter: 'ep_[Fe/H]'\n",
      "WARNING:root:Unrecognized parameter: 'ep_logg'\n",
      "WARNING:root:Unrecognized parameter: 'em_teff'\n",
      "WARNING:root:Unrecognized parameter: 'em_rad'\n",
      "WARNING:root:Unrecognized parameter: 'em_E(B-V)'\n",
      "WARNING:root:Unrecognized parameter: 'em_logg'\n",
      "WARNING:root:Unrecognized parameter: 'stpropflag'\n",
      "WARNING:root:Unrecognized parameter: 'Data Availability'\n",
      "WARNING:root:Unrecognized parameter: 'ep_rad'\n",
      "WARNING:root:Unrecognized parameter: 'ep_teff'\n",
      "WARNING:root:Unrecognized parameter: 'ep_d'\n",
      "WARNING:root:Unrecognized parameter: 'em_mass'\n",
      "WARNING:root:Unrecognized parameter: 'ep_rho'\n",
      "WARNING:root:Unrecognized parameter: 'ep_mass'\n",
      "WARNING:root:Unrecognized parameter: 'em_rho'\n",
      "WARNING:root:Unrecognized parameter: 'em_[Fe/H]'\n",
      "WARNING:root:Unrecognized parameter: 'em_d'\n",
      "WARNING:root:Unrecognized parameter: 'ep_E(B-V)'\n",
      "WARNING:root:Unrecognized parameter: 'ep_[Fe/H]'\n",
      "WARNING:root:Unrecognized parameter: 'ep_logg'\n",
      "WARNING:root:Unrecognized parameter: 'em_teff'\n",
      "WARNING:root:Unrecognized parameter: 'em_rad'\n",
      "WARNING:root:Unrecognized parameter: 'em_E(B-V)'\n",
      "WARNING:root:Unrecognized parameter: 'em_logg'\n",
      "WARNING:root:Unrecognized parameter: 'stpropflag'\n",
      "WARNING:root:Unrecognized parameter: 'Data Availability'\n",
      "WARNING:root:Unrecognized parameter: 'ep_rad'\n",
      "WARNING:root:Unrecognized parameter: 'ep_teff'\n",
      "WARNING:root:Unrecognized parameter: 'ep_d'\n",
      "WARNING:root:Unrecognized parameter: 'em_mass'\n",
      "WARNING:root:Unrecognized parameter: 'ep_rho'\n",
      "WARNING:root:Unrecognized parameter: 'ep_mass'\n",
      "WARNING:root:Unrecognized parameter: 'em_rho'\n",
      "WARNING:root:Unrecognized parameter: 'em_[Fe/H]'\n",
      "WARNING:root:Unrecognized parameter: 'em_d'\n",
      "WARNING:root:Unrecognized parameter: 'ep_E(B-V)'\n",
      "WARNING:root:Unrecognized parameter: 'ep_[Fe/H]'\n",
      "WARNING:root:Unrecognized parameter: 'ep_logg'\n",
      "WARNING:root:Unrecognized parameter: 'em_teff'\n",
      "WARNING:root:Unrecognized parameter: 'em_rad'\n",
      "WARNING:root:Unrecognized parameter: 'em_E(B-V)'\n",
      "WARNING:root:Unrecognized parameter: 'em_logg'\n",
      "WARNING:root:Unrecognized parameter: 'stpropflag'\n",
      "WARNING:root:Unrecognized parameter: 'Data Availability'\n",
      "WARNING:root:Unrecognized parameter: 'ep_rad'\n",
      "WARNING:root:Unrecognized parameter: 'ep_teff'\n",
      "WARNING:root:Unrecognized parameter: 'ep_d'\n",
      "WARNING:root:Unrecognized parameter: 'em_mass'\n",
      "WARNING:root:Unrecognized parameter: 'ep_rho'\n",
      "WARNING:root:Unrecognized parameter: 'ep_mass'\n",
      "WARNING:root:Unrecognized parameter: 'em_rho'\n",
      "WARNING:root:Unrecognized parameter: 'em_[Fe/H]'\n",
      "WARNING:root:Unrecognized parameter: 'em_d'\n",
      "WARNING:root:Unrecognized parameter: 'ep_E(B-V)'\n",
      "WARNING:root:Unrecognized parameter: 'ep_[Fe/H]'\n",
      "WARNING:root:Unrecognized parameter: 'ep_logg'\n",
      "WARNING:root:Unrecognized parameter: 'em_teff'\n",
      "WARNING:root:Unrecognized parameter: 'em_rad'\n",
      "WARNING:root:Unrecognized parameter: 'em_E(B-V)'\n",
      "WARNING:root:Unrecognized parameter: 'em_logg'\n",
      "WARNING:root:Unrecognized parameter: 'stpropflag'\n",
      "WARNING:root:Unrecognized parameter: 'Data Availability'\n",
      "WARNING:root:Unrecognized parameter: 'ep_rad'\n",
      "WARNING:root:Unrecognized parameter: 'ep_teff'\n",
      "WARNING:root:Unrecognized parameter: 'ep_d'\n",
      "WARNING:root:Unrecognized parameter: 'em_mass'\n",
      "WARNING:root:Unrecognized parameter: 'ep_rho'\n",
      "WARNING:root:Unrecognized parameter: 'ep_mass'\n",
      "WARNING:root:Unrecognized parameter: 'em_rho'\n",
      "WARNING:root:Unrecognized parameter: 'em_[Fe/H]'\n",
      "WARNING:root:Unrecognized parameter: 'em_d'\n",
      "WARNING:root:Unrecognized parameter: 'ep_E(B-V)'\n",
      "WARNING:root:Unrecognized parameter: 'ep_[Fe/H]'\n",
      "WARNING:root:Unrecognized parameter: 'ep_logg'\n",
      "WARNING:root:Unrecognized parameter: 'em_teff'\n",
      "WARNING:root:Unrecognized parameter: 'em_rad'\n",
      "WARNING:root:Unrecognized parameter: 'em_E(B-V)'\n",
      "WARNING:root:Unrecognized parameter: 'em_logg'\n",
      "WARNING:root:Unrecognized parameter: 'stpropflag'\n",
      "WARNING:root:Unrecognized parameter: 'Data Availability'\n",
      "WARNING:root:Unrecognized parameter: 'ep_rad'\n",
      "WARNING:root:Unrecognized parameter: 'ep_teff'\n",
      "WARNING:root:Unrecognized parameter: 'ep_d'\n",
      "WARNING:root:Unrecognized parameter: 'em_mass'\n",
      "WARNING:root:Unrecognized parameter: 'ep_rho'\n",
      "WARNING:root:Unrecognized parameter: 'ep_mass'\n",
      "WARNING:root:Unrecognized parameter: 'em_rho'\n",
      "WARNING:root:Unrecognized parameter: 'em_[Fe/H]'\n",
      "WARNING:root:Unrecognized parameter: 'em_d'\n",
      "WARNING:root:Unrecognized parameter: 'ep_E(B-V)'\n",
      "WARNING:root:Unrecognized parameter: 'ep_[Fe/H]'\n",
      "WARNING:root:Unrecognized parameter: 'ep_logg'\n",
      "WARNING:root:Unrecognized parameter: 'em_teff'\n",
      "WARNING:root:Unrecognized parameter: 'em_rad'\n",
      "WARNING:root:Unrecognized parameter: 'em_E(B-V)'\n",
      "WARNING:root:Unrecognized parameter: 'em_logg'\n",
      "WARNING:root:Unrecognized parameter: 'stpropflag'\n",
      "WARNING:root:Unrecognized parameter: 'Data Availability'\n",
      "WARNING:root:Unrecognized parameter: 'ep_rad'\n",
      "WARNING:root:Unrecognized parameter: 'ep_teff'\n",
      "WARNING:root:Unrecognized parameter: 'ep_d'\n",
      "WARNING:root:Unrecognized parameter: 'em_mass'\n",
      "WARNING:root:Unrecognized parameter: 'ep_rho'\n",
      "WARNING:root:Unrecognized parameter: 'ep_mass'\n",
      "WARNING:root:Unrecognized parameter: 'em_rho'\n",
      "WARNING:root:Unrecognized parameter: 'em_[Fe/H]'\n",
      "WARNING:root:Unrecognized parameter: 'em_d'\n",
      "WARNING:root:Unrecognized parameter: 'ep_E(B-V)'\n",
      "WARNING:root:Unrecognized parameter: 'ep_[Fe/H]'\n",
      "WARNING:root:Unrecognized parameter: 'ep_logg'\n",
      "WARNING:root:Unrecognized parameter: 'em_teff'\n",
      "WARNING:root:Unrecognized parameter: 'em_rad'\n",
      "WARNING:root:Unrecognized parameter: 'em_E(B-V)'\n",
      "WARNING:root:Unrecognized parameter: 'em_logg'\n",
      "WARNING:root:Unrecognized parameter: 'stpropflag'\n",
      "WARNING:root:Unrecognized parameter: 'Data Availability'\n",
      "WARNING:root:Unrecognized parameter: 'ep_rad'\n",
      "WARNING:root:Unrecognized parameter: 'ep_teff'\n",
      "WARNING:root:Unrecognized parameter: 'ep_d'\n",
      "WARNING:root:Unrecognized parameter: 'em_mass'\n",
      "WARNING:root:Unrecognized parameter: 'ep_rho'\n",
      "WARNING:root:Unrecognized parameter: 'ep_mass'\n",
      "WARNING:root:Unrecognized parameter: 'em_rho'\n",
      "WARNING:root:Unrecognized parameter: 'em_[Fe/H]'\n",
      "WARNING:root:Unrecognized parameter: 'em_d'\n",
      "WARNING:root:Unrecognized parameter: 'ep_E(B-V)'\n",
      "WARNING:root:Unrecognized parameter: 'ep_[Fe/H]'\n",
      "WARNING:root:Unrecognized parameter: 'ep_logg'\n",
      "WARNING:root:Unrecognized parameter: 'em_teff'\n",
      "WARNING:root:Unrecognized parameter: 'em_rad'\n",
      "WARNING:root:Unrecognized parameter: 'em_E(B-V)'\n",
      "WARNING:root:Unrecognized parameter: 'em_logg'\n",
      "WARNING:root:Unrecognized parameter: 'stpropflag'\n",
      "WARNING:root:Unrecognized parameter: 'Data Availability'\n",
      "WARNING:root:Unrecognized parameter: 'ep_rad'\n",
      "WARNING:root:Unrecognized parameter: 'ep_teff'\n",
      "WARNING:root:Unrecognized parameter: 'ep_d'\n",
      "WARNING:root:Unrecognized parameter: 'em_mass'\n",
      "WARNING:root:Unrecognized parameter: 'ep_rho'\n",
      "WARNING:root:Unrecognized parameter: 'ep_mass'\n",
      "WARNING:root:Unrecognized parameter: 'em_rho'\n",
      "WARNING:root:Unrecognized parameter: 'em_[Fe/H]'\n",
      "WARNING:root:Unrecognized parameter: 'em_d'\n",
      "WARNING:root:Unrecognized parameter: 'ep_E(B-V)'\n",
      "WARNING:root:Unrecognized parameter: 'ep_[Fe/H]'\n",
      "WARNING:root:Unrecognized parameter: 'ep_logg'\n",
      "WARNING:root:Unrecognized parameter: 'em_teff'\n",
      "WARNING:root:Unrecognized parameter: 'em_rad'\n",
      "WARNING:root:Unrecognized parameter: 'em_E(B-V)'\n",
      "WARNING:root:Unrecognized parameter: 'em_logg'\n",
      "WARNING:root:Unrecognized parameter: 'stpropflag'\n",
      "WARNING:root:Unrecognized parameter: 'Data Availability'\n",
      "WARNING:root:Unrecognized parameter: 'ep_rad'\n",
      "WARNING:root:Unrecognized parameter: 'ep_teff'\n",
      "WARNING:root:Unrecognized parameter: 'ep_d'\n",
      "WARNING:root:Unrecognized parameter: 'em_mass'\n",
      "WARNING:root:Unrecognized parameter: 'ep_rho'\n",
      "WARNING:root:Unrecognized parameter: 'ep_mass'\n",
      "WARNING:root:Unrecognized parameter: 'em_rho'\n",
      "WARNING:root:Unrecognized parameter: 'em_[Fe/H]'\n",
      "WARNING:root:Unrecognized parameter: 'em_d'\n",
      "WARNING:root:Unrecognized parameter: 'ep_E(B-V)'\n",
      "WARNING:root:Unrecognized parameter: 'ep_[Fe/H]'\n",
      "WARNING:root:Unrecognized parameter: 'ep_logg'\n",
      "WARNING:root:Unrecognized parameter: 'em_teff'\n",
      "WARNING:root:Unrecognized parameter: 'em_rad'\n",
      "WARNING:root:Unrecognized parameter: 'em_E(B-V)'\n",
      "WARNING:root:Unrecognized parameter: 'em_logg'\n",
      "WARNING:root:Unrecognized parameter: 'stpropflag'\n",
      "WARNING:root:Unrecognized parameter: 'Data Availability'\n",
      "WARNING:root:Unrecognized parameter: 'ep_rad'\n",
      "WARNING:root:Unrecognized parameter: 'ep_teff'\n",
      "WARNING:root:Unrecognized parameter: 'ep_d'\n",
      "WARNING:root:Unrecognized parameter: 'em_mass'\n",
      "WARNING:root:Unrecognized parameter: 'ep_rho'\n",
      "WARNING:root:Unrecognized parameter: 'ep_mass'\n",
      "WARNING:root:Unrecognized parameter: 'em_rho'\n",
      "WARNING:root:Unrecognized parameter: 'em_[Fe/H]'\n",
      "WARNING:root:Unrecognized parameter: 'em_d'\n",
      "WARNING:root:Unrecognized parameter: 'ep_E(B-V)'\n",
      "WARNING:root:Unrecognized parameter: 'ep_[Fe/H]'\n",
      "WARNING:root:Unrecognized parameter: 'ep_logg'\n",
      "WARNING:root:Unrecognized parameter: 'em_teff'\n",
      "WARNING:root:Unrecognized parameter: 'em_rad'\n",
      "WARNING:root:Unrecognized parameter: 'em_E(B-V)'\n",
      "WARNING:root:Unrecognized parameter: 'em_logg'\n",
      "WARNING:root:Unrecognized parameter: 'stpropflag'\n",
      "WARNING:root:Unrecognized parameter: 'Data Availability'\n",
      "WARNING:root:Unrecognized parameter: 'ep_rad'\n",
      "WARNING:root:Unrecognized parameter: 'ep_teff'\n",
      "WARNING:root:Unrecognized parameter: 'ep_d'\n",
      "WARNING:root:Unrecognized parameter: 'em_mass'\n",
      "WARNING:root:Unrecognized parameter: 'ep_rho'\n",
      "WARNING:root:Unrecognized parameter: 'ep_mass'\n",
      "WARNING:root:Unrecognized parameter: 'em_rho'\n",
      "WARNING:root:Unrecognized parameter: 'em_[Fe/H]'\n",
      "WARNING:root:Unrecognized parameter: 'em_d'\n",
      "WARNING:root:Unrecognized parameter: 'ep_E(B-V)'\n",
      "WARNING:root:Unrecognized parameter: 'ep_[Fe/H]'\n",
      "WARNING:root:Unrecognized parameter: 'ep_logg'\n",
      "WARNING:root:Unrecognized parameter: 'em_teff'\n",
      "WARNING:root:Unrecognized parameter: 'em_rad'\n",
      "WARNING:root:Unrecognized parameter: 'em_E(B-V)'\n",
      "WARNING:root:Unrecognized parameter: 'em_logg'\n",
      "WARNING:root:Unrecognized parameter: 'stpropflag'\n",
      "WARNING:root:Unrecognized parameter: 'Data Availability'\n",
      "WARNING:root:Unrecognized parameter: 'ep_rad'\n",
      "WARNING:root:Unrecognized parameter: 'ep_teff'\n",
      "WARNING:root:Unrecognized parameter: 'ep_d'\n",
      "WARNING:root:Unrecognized parameter: 'em_mass'\n",
      "WARNING:root:Unrecognized parameter: 'ep_rho'\n",
      "WARNING:root:Unrecognized parameter: 'ep_mass'\n",
      "WARNING:root:Unrecognized parameter: 'em_rho'\n",
      "WARNING:root:Unrecognized parameter: 'em_[Fe/H]'\n",
      "WARNING:root:Unrecognized parameter: 'em_d'\n",
      "WARNING:root:Unrecognized parameter: 'ep_E(B-V)'\n",
      "WARNING:root:Unrecognized parameter: 'ep_[Fe/H]'\n",
      "WARNING:root:Unrecognized parameter: 'ep_logg'\n",
      "WARNING:root:Unrecognized parameter: 'em_teff'\n",
      "WARNING:root:Unrecognized parameter: 'em_rad'\n",
      "WARNING:root:Unrecognized parameter: 'em_E(B-V)'\n",
      "WARNING:root:Unrecognized parameter: 'em_logg'\n",
      "WARNING:root:Unrecognized parameter: 'stpropflag'\n",
      "WARNING:root:Unrecognized parameter: 'Data Availability'\n",
      "WARNING:root:Unrecognized parameter: 'ep_rad'\n",
      "WARNING:root:Unrecognized parameter: 'ep_teff'\n",
      "WARNING:root:Unrecognized parameter: 'ep_d'\n",
      "WARNING:root:Unrecognized parameter: 'em_mass'\n",
      "WARNING:root:Unrecognized parameter: 'ep_rho'\n"
     ]
    },
    {
     "name": "stdout",
     "output_type": "stream",
     "text": [
      "[201264302, 201606542, 201637175, 201650711, 202094740, 203533312, 205152172, 206103150, 206151047, 206169375, 206298289, 206417197, 210414957, 210605073, 210707130, 210754505, 210954046, 210961508, 211152484, 211357309, 211685045, 211995325, 212150006] [169.598013, 170.311881, 169.482818, 172.044052, 100.46312, 243.955378, 245.180008, 331.203044, 333.71501, 344.016383, 337.357688, 337.133466, 64.325266, 65.62329, 59.464394, 64.64493, 60.903766, 59.920104, 60.069895, 133.23263, 123.359621, 131.207598, 128.169544] [-2.991577, 2.144426, 2.61907, 2.826891, 27.0972, -25.818471, -19.14414, -12.018893, -10.769168, -10.332234, -8.266702, -6.347505, 13.804842, 17.037875, 18.465254, 19.179056, 22.249157, 22.365984, 25.48, 10.944721, 15.713759, 20.177694, 23.031999]\n",
      "[3299.0, 5307.0, 3865.0, 3718.0, None, 7072.0, 4202.0, 5950.0, 5928.0, 6167.0, 3724.0, 5007.0, 5404.0, None, 4268.0, 6041.0, None, 5056.0, 5983.0, 3563.0, 3832.0, 4071.0, 5528.0]\n"
     ]
    }
   ],
   "source": [
    "epic_teff_list = []; epic_teff_err_list = [];\n",
    "star_ra_list=[]; star_dec_list=[]; star_rad_list = []\n",
    "kepmag_list=[]; bmag_list = []; vmag_list = []; jmag_list=[]; kmag_list=[]\n",
    "objtype=[]\n",
    "for ff in follow_list:\n",
    "    star = client.k2_star(ff)\n",
    "    star_ra_list.append(star.k2_ra)\n",
    "    star_dec_list.append(star.k2_dec)\n",
    "\n",
    "    star_rad_list.append(star.rad)\n",
    "    epic_teff_list.append(star.teff)\n",
    "    epic_teff_err_list.append(star.e_teff)\n",
    "    kepmag_list.append(star.kp)\n",
    "    #print ff, star.jmag - star.kmag\n",
    "    bmag_list.append(star.bmag)\n",
    "    vmag_list.append(star.vmag)\n",
    "    jmag_list.append(star.jmag)\n",
    "    kmag_list.append(star.kmag)\n",
    "    objtype.append(star.objtype)\n",
    "print follow_list, star_ra_list, star_dec_list\n",
    "print epic_teff_list"
   ]
  },
  {
   "cell_type": "code",
   "execution_count": 13,
   "metadata": {
    "collapsed": false
   },
   "outputs": [
    {
     "name": "stdout",
     "output_type": "stream",
     "text": [
      "128.169544 23.031999 14.7\n",
      "15.678 14.616 14.771 13.462 13.054 12.948\n",
      "5528.0 769.5 0.896 None None None 4.482\n",
      "None\n",
      "STAR\n"
     ]
    }
   ],
   "source": [
    "# Value names came from this random difference log:\n",
    "# https://github.com/dfm/kplr/commit/d7a35e6329c2c0111c9c5d4600c2260c722f9eb5\n",
    "print star.k2_ra, star.k2_dec, star.kp\n",
    "print star.bmag, star.rmag, star.vmag, star.jmag, star.hmag, star.kmag\n",
    "print star.teff, star.d, star.rad, star.e_rad, star.lum,  star.plx, star.logg\n",
    "print star.e_teff\n",
    "print star.objtype"
   ]
  },
  {
   "cell_type": "code",
   "execution_count": 22,
   "metadata": {
    "collapsed": false
   },
   "outputs": [
    {
     "name": "stdout",
     "output_type": "stream",
     "text": [
      "202094740 None\n"
     ]
    }
   ],
   "source": [
    "# What type of objects are our candidates?\n",
    "#print objtype\n",
    "for ii,oo in enumerate(objtype):\n",
    "    if oo != \"STAR\":\n",
    "        print follow_list[ii], oo"
   ]
  },
  {
   "cell_type": "code",
   "execution_count": 23,
   "metadata": {
    "collapsed": false
   },
   "outputs": [
    {
     "name": "stdout",
     "output_type": "stream",
     "text": [
      "201264302 3299.0 None 0.188\n",
      "201606542 5307.0 None 0.851\n",
      "201637175 3865.0 None 0.382\n",
      "201650711 3718.0 None 0.34\n",
      "202094740 None None None\n",
      "203533312 7072.0 None 2.028\n",
      "205152172 4202.0 None 0.531\n",
      "206103150 5950.0 None 1.104\n",
      "206151047 5928.0 None 1.226\n",
      "206169375 6167.0 None 1.384\n",
      "206298289 3724.0 None 0.333\n",
      "206417197 5007.0 None 0.75\n",
      "210414957 5404.0 None 2.319\n",
      "210605073 None None None\n",
      "210707130 4268.0 None 0.507\n",
      "210754505 6041.0 None 1.318\n",
      "210954046 None None None\n",
      "210961508 5056.0 None 2.589\n",
      "211152484 5983.0 None 1.214\n",
      "211357309 3563.0 None 0.272\n",
      "211685045 3832.0 None 0.376\n",
      "211995325 4071.0 None 0.417\n",
      "212150006 5528.0 None 0.896\n"
     ]
    }
   ],
   "source": [
    "# Teff values have been propogated at last! (4/13/16)\n",
    "# ... but not the errors, UGH.\n",
    "for ii in range(len(follow_list)):\n",
    "    print follow_list[ii], epic_teff_list[ii], epic_teff_err_list[ii], star_rad_list[ii]"
   ]
  },
  {
   "cell_type": "markdown",
   "metadata": {},
   "source": [
    "## Hack the stupid Teff errors by use the ExoFOP query"
   ]
  },
  {
   "cell_type": "markdown",
   "metadata": {},
   "source": [
    "https://exofop.ipac.caltech.edu/k2/search.php\n",
    "\n",
    "We also get the log(g) and [Fe/H] values from ExoFOP currently, which come with errors. The catch is you have to run a query on a list of files every time your target list changes. Boo."
   ]
  },
  {
   "cell_type": "code",
   "execution_count": 24,
   "metadata": {
    "collapsed": true
   },
   "outputs": [],
   "source": [
    "# https://exofop.ipac.caltech.edu/k2/search.php\n",
    "# via Dan Huber (http://arxiv.org/abs/1512.02643)\n",
    "exofop_stellar_param_file = \"data_from_catalogs/exofop_search20160323_121749.csv\"\n",
    "gg = open(exofop_stellar_param_file,\"r\")\n",
    "lines = gg.readlines()\n",
    "gg.close()\n",
    "exofop_values={}\n",
    "for line in lines:\n",
    "    if line[0]!=\"#\":\n",
    "        elems=line.rstrip().split(\",\")\n",
    "        if elems[0]==\"Target\":\n",
    "            headers=elems\n",
    "        elif elems == ['']:\n",
    "            foo=1\n",
    "        else:\n",
    "            obj = eval(elems[0])\n",
    "            for ii,hh in enumerate(headers):\n",
    "                exofop_values[hh,obj] = elems[ii]"
   ]
  },
  {
   "cell_type": "code",
   "execution_count": 25,
   "metadata": {
    "collapsed": false
   },
   "outputs": [
    {
     "name": "stdout",
     "output_type": "stream",
     "text": [
      "['Target', 'RA', 'Dec', 'Teff (K)', 'Teff Uncertainty', 'log(g)', 'log(g) Uncertainty', 'Stellar Radius (R_Sun)', 'Stellar Radius Uncertainty', 'Vsin(i) (km/s)', 'Vsin(i) Uncertainty', 'Spectral Type', \"logR'HK\", \"logR'HK Uncertainty\", '[Fe/H]', '[Fe/H] Uncertainty', 'Distance (pc)', 'Distance Uncertainty', 'Stellar Mass (M_Sun)', 'Stellar Mass Uncertainty', 'Density (g/cm3)', 'Density Uncertainty', 'Rot Period (days)', 'Rot Period Uncertainty', 'Luminosity (L_Sun)', 'Luminosity Uncertainty', 'S-index', 'S-index Uncertainty']\n"
     ]
    }
   ],
   "source": [
    "print headers"
   ]
  },
  {
   "cell_type": "code",
   "execution_count": 26,
   "metadata": {
    "collapsed": false
   },
   "outputs": [
    {
     "name": "stdout",
     "output_type": "stream",
     "text": [
      "201264302 Teff 3299 32 Rstar 0.188 0.004 log g 5.106 0.026 [Fe/H] 0.155 0.05\n",
      "201606542 Teff 5307 159 Rstar 0.851 0.061 log g 4.531 0.03 [Fe/H] 0.051 0.1\n",
      "201637175 Teff 3865 90 Rstar 0.382 0.069 log g 4.886 0.084 [Fe/H] -0.048 0.15\n",
      "201650711 Teff 3718 107 Rstar 0.34 0.047 log g 4.943 0.045 [Fe/H] -0.027 0.12\n",
      "202094740 Teff   Rstar   log g   [Fe/H]  \n",
      "203533312 Teff 7072 451 Rstar 2.028 0.925 log g 4.029 0.02 [Fe/H] 0.17 0.12\n",
      "205152172 Teff 4202 242 Rstar 0.531 0.087 log g 4.758 0.042 [Fe/H] -0.04 0.2\n",
      "206103150 Teff 5950 108 Rstar 1.104 0.319 log g 4.322 0.12 [Fe/H] -0.176 0.2\n",
      "206151047 Teff 5928 120 Rstar 1.226 0.546 log g 4.247 0.18 [Fe/H] -0.169 0.24\n",
      "206169375 Teff 6167 122 Rstar 1.384 0.415 log g 4.16 0.165 [Fe/H] -0.168 0.2\n",
      "206298289 Teff 3724 59 Rstar 0.333 0.027 log g 4.942 0.055 [Fe/H] 0.017 0.05\n",
      "206417197 Teff 5007 151 Rstar 0.75 0.039 log g 4.587 0.035 [Fe/H] -0.063 0.12\n",
      "210414957 Teff 5404 86 Rstar 2.319 0.233 log g 3.779 0.02 [Fe/H] -0.395 0.24\n",
      "210605073 Teff   Rstar   log g   [Fe/H]  \n",
      "210707130 Teff 4268 150 Rstar 0.507 0.076 log g 4.776 0.03 [Fe/H] -0.212 0.2\n",
      "210754505 Teff 6041 120 Rstar 1.318 0.313 log g 4.224 0.14 [Fe/H] -0.088 0.12\n",
      "210954046 Teff   Rstar   log g   [Fe/H]  \n",
      "210961508 Teff 5056 156 Rstar 2.589 0.512 log g 3.64 0.912 [Fe/H] -0.233 0.3\n",
      "211152484 Teff 5983 248 Rstar 1.214 0.347 log g 4.306 0.11 [Fe/H] -0.041 0.12\n",
      "211357309 Teff 3563 57 Rstar 0.272 0.028 log g 5.004 0.048 [Fe/H] 0.097 0.08\n",
      "211685045 Teff 3832 214 Rstar 0.376 0.083 log g 4.9 0.075 [Fe/H] -0.058 0.15\n",
      "211995325 Teff 4071 477 Rstar 0.417 0.156 log g 4.838 0.155 [Fe/H] -0.202 0.2\n",
      "212150006 Teff 5528 163 Rstar 0.896 1.298 log g 4.482 0.065 [Fe/H] -0.281 0.25\n"
     ]
    }
   ],
   "source": [
    "exo_teff=[]; exo_teff_err=[]; exo_rstar=[]; exo_rstar_err=[]\n",
    "exo_logg=[]; exo_logg_err=[]; exo_feh=[]; exo_feh_err=[]\n",
    "for ff in follow_list:\n",
    "    print ff,\n",
    "    print \"Teff\", exofop_values[\"Teff (K)\",ff],  exofop_values[\"Teff Uncertainty\",ff],\n",
    "    print \"Rstar\",exofop_values[\"Stellar Radius (R_Sun)\",ff], exofop_values[\"Stellar Radius Uncertainty\",ff],\n",
    "    print \"log g\",exofop_values[\"log(g)\",ff], exofop_values[\"log(g) Uncertainty\",ff],\n",
    "    print \"[Fe/H]\",exofop_values[\"[Fe/H]\",ff], exofop_values[\"[Fe/H] Uncertainty\",ff]\n",
    "\n",
    "    exo_teff.append( exofop_values[\"Teff (K)\",ff])\n",
    "    exo_teff_err.append(exofop_values[\"Teff Uncertainty\",ff] )\n",
    "    exo_rstar.append( exofop_values[\"Stellar Radius (R_Sun)\",ff])\n",
    "    exo_rstar_err.append( exofop_values[\"Stellar Radius Uncertainty\",ff] )\n",
    "    exo_logg.append( exofop_values[\"log(g)\",ff])\n",
    "    exo_logg_err.append(exofop_values[\"log(g) Uncertainty\",ff] )\n",
    "    exo_feh.append( exofop_values[\"[Fe/H]\",ff])\n",
    "    exo_feh_err.append(exofop_values[\"[Fe/H] Uncertainty\",ff] )\n",
    " "
   ]
  },
  {
   "cell_type": "code",
   "execution_count": 27,
   "metadata": {
    "collapsed": false
   },
   "outputs": [
    {
     "name": "stdout",
     "output_type": "stream",
     "text": [
      "['3299', '5307', '3865', '3718', '', '7072', '4202', '5950', '5928', '6167', '3724', '5007', '5404', '', '4268', '6041', '', '5056', '5983', '3563', '3832', '4071', '5528']\n",
      "[3299.0, 5307.0, 3865.0, 3718.0, None, 7072.0, 4202.0, 5950.0, 5928.0, 6167.0, 3724.0, 5007.0, 5404.0, None, 4268.0, 6041.0, None, 5056.0, 5983.0, 3563.0, 3832.0, 4071.0, 5528.0]\n"
     ]
    }
   ],
   "source": [
    "print exo_teff\n",
    "print epic_teff_list"
   ]
  },
  {
   "cell_type": "markdown",
   "metadata": {},
   "source": [
    "# Output a list of candidates for observation (optional)"
   ]
  },
  {
   "cell_type": "code",
   "execution_count": 28,
   "metadata": {
    "collapsed": false
   },
   "outputs": [],
   "source": [
    "import time as systime\n",
    "now = systime.strftime(\"%Y%b%d\")"
   ]
  },
  {
   "cell_type": "code",
   "execution_count": 29,
   "metadata": {
    "collapsed": false
   },
   "outputs": [
    {
     "name": "stdout",
     "output_type": "stream",
     "text": [
      "hms_tuple(h=0.0, m=42.0, s=44.299200000000525)\n",
      "dms_tuple(d=41.0, m=16.0, s=9.0120000000092659)\n",
      "00h42m44.2992s +41d16m09.012s\n"
     ]
    }
   ],
   "source": [
    "from astropy import units as u\n",
    "from astropy.coordinates import SkyCoord\n",
    "\n",
    "c = SkyCoord(ra=10.68458*u.degree, dec=41.26917*u.degree)\n",
    "print c.ra.hms\n",
    "print c.dec.dms\n",
    "print c.to_string('hmsdms')"
   ]
  },
  {
   "cell_type": "code",
   "execution_count": 30,
   "metadata": {
    "collapsed": false
   },
   "outputs": [],
   "source": [
    "# EPIC, RA, Dec, V, Kep, Dwarf status\n",
    "export_for_obs = False\n",
    "if export_for_obs:\n",
    "    gg=open(results_dir+\"obslist_\"+now+\".tsv\",\"w\")\n",
    "    print >>gg, \"\\t\".join([\"Candidate\",\"RA_hms\",\"Dec_hms\",\"V_mag\",\"Kep_mag\",\"Dwarf\"])\n",
    "    for ii,cc in enumerate(follow_list):\n",
    "        c = SkyCoord(ra=star_ra_list[ii]*u.degree, dec=star_dec_list[ii]*u.degree)\n",
    "        print >>gg, \"\\t\".join([str(cc), c.to_string('hmsdms'), str(vmag_list[ii]),\n",
    "                               str(kepmag_list[ii]),is_dwarf[ii]])\n",
    "\n",
    "    gg.close()"
   ]
  },
  {
   "cell_type": "markdown",
   "metadata": {},
   "source": [
    "# Read in Vanderbilt's catalog Teff (where available)"
   ]
  },
  {
   "cell_type": "code",
   "execution_count": 33,
   "metadata": {
    "collapsed": false
   },
   "outputs": [
    {
     "name": "stdout",
     "output_type": "stream",
     "text": [
      "['k2name', 'k2camp', 'isdwarf', 'teff', 'tefferr', 'kepmag']\n"
     ]
    }
   ],
   "source": [
    "# This file is only C0-5!\n",
    "tess_catalog_file = \"data_from_catalogs/k2tess_teff_err.tsv\"\n",
    "\n",
    "gg = open(tess_catalog_file,\"r\")\n",
    "lines = gg.readlines()\n",
    "gg.close()\n",
    "header = lines[0].rstrip().split(\"\\t\")\n",
    "print header\n",
    "teff_pos = header.index(\"teff\")\n",
    "teff_err_pos = header.index(\"tefferr\")\n",
    "epic_pos = header.index(\"k2name\")\n",
    "dwarf_pos=header.index(\"isdwarf\")\n",
    "#print len(lines), teff_pos,teff_err_pos, epic_pos\n",
    "tess_epic_nums=[]; tess_teffs=[]; tess_teff_errs=[]; is_dwarf=[]\n",
    "for line in lines[1:]:\n",
    "    elems=line.rstrip().split(\"\\t\")\n",
    "    tess_epic_nums.append( eval(elems[epic_pos]) )\n",
    "    tess_teffs.append( elems[teff_pos] )\n",
    "    tess_teff_errs.append( elems[teff_err_pos] )\n",
    "    is_dwarf.append( elems[dwarf_pos] )"
   ]
  },
  {
   "cell_type": "code",
   "execution_count": 34,
   "metadata": {
    "collapsed": false
   },
   "outputs": [
    {
     "name": "stdout",
     "output_type": "stream",
     "text": [
      "63191\n"
     ]
    }
   ],
   "source": [
    "# About 2/3 of the 90K total C0-5 targets in here\n",
    "print len(tess_epic_nums)"
   ]
  },
  {
   "cell_type": "markdown",
   "metadata": {},
   "source": [
    "# Get own Teffs from McDonald (Mike Endl)"
   ]
  },
  {
   "cell_type": "code",
   "execution_count": 35,
   "metadata": {
    "collapsed": false
   },
   "outputs": [
    {
     "name": "stdout",
     "output_type": "stream",
     "text": [
      "['EPIC#', 'HJD', 'S/N', 'RV[km/s]', 'err', 'Teff[K]', 'err', '[Fe/H]', 'err', 'logg', 'err', 'vsini[km/s]', 'err', 'T_exp[s]', 'Notes']\n",
      "Averaged 210954046 (6.12+/-0.20)e+03 [From: 6062.0 6188.0 ]\n",
      "[210414957, 210707130, 210754505, 210954046, 210961508, 211152484, 201606542, 203533312, 201650711]\n",
      "[5838.0, 4462.0, 5875.0, 6125.0, 4925.0, 6188.0, 5540.0, 6620.0, 4340.0]\n",
      "[102.0, 84.0, 103.0, 202.4, 45.0, 67.0, 108.0, 86.0, 103.0]\n",
      "[4.12, 4.17, 4.04, 3.0, 3.42, 4.12, 4.81, 4.19, 4.25]\n",
      "[0.3, -0.28, 0.04, 0.0, -0.06, -0.12, 0.03, 0.09, -0.81]\n"
     ]
    }
   ],
   "source": [
    "gg=open(\"data_from_observations/McD_followup.dat\",\"r\")\n",
    "lines = gg.readlines()\n",
    "gg.close()\n",
    "header_elems= lines[0].rstrip().split()\n",
    "print header_elems\n",
    "observed=[]; observed_teff=[]; observed_teff_err=[]; observed_logg=[]; observed_logg_err=[]\n",
    "observed_feh=[]; observed_feh_err=[]\n",
    "for line in lines[2:]:\n",
    "    if line[0] != \"#\":\n",
    "        elems=line.rstrip().split()\n",
    "        obj = eval(elems[0])\n",
    "        # If we are averaging two data points\n",
    "        # This will dumbly break for three...\n",
    "        if obj in observed:\n",
    "            previous_ind = observed.index(obj)\n",
    "            prev = observed_teff[previous_ind]\n",
    "            prev_err = observed_teff_err[previous_ind]\n",
    "            prev_u = ufloat(prev,prev_err) \n",
    "            this = eval(elems[header_elems.index(\"Teff[K]\")])\n",
    "            this_err = eval(elems[header_elems.index(\"Teff[K]\")+1])\n",
    "            this_u = ufloat(this,this_err) \n",
    "            ave_u = (this_u + prev_u) / 2.\n",
    "            print \"Averaged\", obj, ave_u, \"[From:\",prev,this,\"]\"\n",
    "            # Now replace with the average value\n",
    "            observed_teff[previous_ind] = ave_u.nominal_value\n",
    "            observed_teff_err[previous_ind] = round(ave_u.std_dev,1)\n",
    "        # Most objects only have one data point\n",
    "        else:\n",
    "            observed.append(eval(elems[0]))\n",
    "            observed_teff.append( eval(elems[header_elems.index(\"Teff[K]\")]) ) \n",
    "            observed_teff_err.append( eval(elems[header_elems.index(\"Teff[K]\")+1]) )\n",
    "\n",
    "            observed_logg.append( eval(elems[header_elems.index(\"logg\")]) )\n",
    "            observed_logg_err.append( eval(elems[header_elems.index(\"logg\")+1]) )\n",
    "\n",
    "            observed_feh.append( eval(elems[header_elems.index(\"[Fe/H]\")]) )\n",
    "            observed_feh_err.append( eval(elems[header_elems.index(\"[Fe/H]\")+1]) )\n",
    "         \n",
    "print observed\n",
    "print observed_teff\n",
    "print observed_teff_err\n",
    "print observed_logg\n",
    "print observed_feh"
   ]
  },
  {
   "cell_type": "markdown",
   "metadata": {},
   "source": [
    "# Use Teff/R* values from the literature if available"
   ]
  },
  {
   "cell_type": "code",
   "execution_count": 36,
   "metadata": {
    "collapsed": true
   },
   "outputs": [],
   "source": [
    "# For 201637175 (Sanchis-Ojeda 15b) http://adsabs.harvard.edu/abs/2015ApJ...812..112S\n",
    "# Teff 3830 ± 100\n",
    "# logg 4.65 ± 0.12\n",
    "# FeH 0.03 ± 0.08\n",
    "# Mstar 0.60 ± 0.07\n",
    "# Rstar 0.57 ± 0.06\n",
    "\n",
    "# Sanchis-Ojeda 15 (p2) for WASP-47, aka 206103150,\n",
    "# the results were Teff = 5565 ± 60K, logg = 4.29 ± 0.07, and [Fe/H] = 0.43 ± 0.04. \n",
    "# \"These values are all in agreement with those presented by\n",
    "#   Hellier et al. (2012) and Mortier et al. (2013).\"\n",
    "lit_teff_objects = [201637175, 206103150]\n",
    "lit_teffs = [3830, 5565.0]\n",
    "lit_teff_errs = [100, 60.0]\n",
    "lit_logg = [4.65, 4.29]\n",
    "lit_logg_err = [0.12, 0.07]\n",
    "lit_feh = [0.03, 0.43]\n",
    "lit_feh_err = [0.08, 0.04]"
   ]
  },
  {
   "cell_type": "code",
   "execution_count": 38,
   "metadata": {
    "collapsed": true
   },
   "outputs": [],
   "source": [
    "# Objects that have a published value for R* (not just for T_eff)\n",
    "has_lit_rstar_objects = [206103150]\n",
    "has_lit_rstar_ref = \"Mortier2013\" # also Becker2016\n",
    "has_lit_rstar = [1.15] # the last column, from the LC, NOT the previous column\n",
    "has_lit_rstar_err = [0.04]"
   ]
  },
  {
   "cell_type": "markdown",
   "metadata": {},
   "source": [
    "# Special cases which have no Teff values"
   ]
  },
  {
   "cell_type": "code",
   "execution_count": 39,
   "metadata": {
    "collapsed": false
   },
   "outputs": [
    {
     "name": "stdout",
     "output_type": "stream",
     "text": [
      "[ 0.36  0.37  0.39  0.43  0.53  0.59  0.69  0.72  0.81  0.84  0.84  0.86\n",
      "  0.87  0.89  0.91  1.02]\n",
      "3584.375 3135.0\n"
     ]
    }
   ],
   "source": [
    "# Option A: based on V-K, J-H, H-K colors assuming it's a main-sequence (dwarf)\n",
    "# Allen's Astrophysical Quantities, p 151, Table 7.6, G0 to M6\n",
    "# 211357309 checks out: between M0/M1, 3800-3680\n",
    "# 211623903: K2/K4\n",
    "\n",
    "allen_vMinusK=[1.41, 1.46, 1.53, 1.64, 1.96, 2.22, 2.63, 2.85, 3.16, 3.65, 3.87, 4.11, 4.65, 5.28, 6.17, 7.37]\n",
    "allen_jMinusH=[0.31, 0.32, 0.33, 0.37, 0.45, 0.50, 0.58, 0.61, 0.66, 0.67, 0.66, 0.66, 0.64, 0.62, 0.62, 0.66]\n",
    "allen_hMinusK=[0.05, 0.05, 0.06, 0.06, 0.08, 0.09, 0.11, 0.11, 0.15, 0.17, 0.18, 0.20, 0.23, 0.27, 0.29, 0.36]\n",
    "allen_teff   =[5930, 5830, 5740, 5620, 5240, 5010, 4560, 4340, 4040, 3800, 3680, 3530, 3380, 3180, 3030, 2850]\n",
    "allen_jMinusK=np.array(allen_jMinusH) + np.array(allen_hMinusK)\n",
    "print allen_jMinusK\n",
    "\n",
    "interp_vk =interpolate.interp1d( allen_vMinusK, allen_teff)\n",
    "interp_jk =interpolate.interp1d( allen_jMinusK, allen_teff)\n",
    "assign_teff = float(interp_vk(4.023))\n",
    "assign_teff2 = float(interp_jk(0.896))\n",
    "print assign_teff, assign_teff2"
   ]
  },
  {
   "cell_type": "code",
   "execution_count": 42,
   "metadata": {
    "collapsed": false
   },
   "outputs": [
    {
     "name": "stdout",
     "output_type": "stream",
     "text": [
      "1.58 2.32 2.77 0.45\n"
     ]
    }
   ],
   "source": [
    "# Option B: \n",
    "# Sloan photometry from Pinsonneault 2012ApJS..199...30P\n",
    "# 210605073\n",
    "# g-r = -0.037, g-i=-0.145, and g-z=-0.266\n",
    "# Just off edge of table; we used the radius of a F0 star from Allen's.\n",
    "infer_teff_objects = [210605073]\n",
    "infer_teffs = [7020.0]\n",
    "infer_teff_err = [500.0] # made up!\n",
    "\n",
    "# 2016-May-20: email from JJ Hermes re 210605073\n",
    "# the Vanderburg & Johnson aperture is mostly composed of the nearby star \n",
    "#   SDSS J042229.72+170208.1 (r=17.22 mag)\n",
    "#  https://www.cfa.harvard.edu/~avanderb/k2c4/ep210605073.html\n",
    "#  which has colors from\n",
    "#   http://skyserver.sdss.org/dr12/en/tools/explore/Summary.aspx?id=1237671256905678933\n",
    "u=21.66\n",
    "g=18.80\n",
    "r=17.22\n",
    "i=16.48\n",
    "z=16.03\n",
    "print g-r, g-i, g-z, i-z\n",
    "# 1.58 2.32 2.77 0.45\n",
    "# That makes it an M dwarf, off the *bottom* edge of the table (M<0.58 and T<4047.1)"
   ]
  },
  {
   "cell_type": "code",
   "execution_count": 85,
   "metadata": {
    "collapsed": false
   },
   "outputs": [
    {
     "name": "stdout",
     "output_type": "stream",
     "text": [
      "0.651650739753 0.348349260247\n",
      "1.23877534662\n"
     ]
    }
   ],
   "source": [
    "# Dilution factor\n",
    "mag1=17.22 # Star with transits, SDSS J042229.72+170208.1 (r=17.22 mag)\n",
    "mag2=17.90 # WD, EPIC 210605073 (SDSS J042229.58+170216.3, r=17.90 mag)\n",
    "flux1 = 10**((mag1)/-2.5)\n",
    "flux2 = 10**((mag2)/-2.5)\n",
    "# What fraction of the total light is due to star 1, the non-white-dwarf?\n",
    "frac1 = flux1/(flux1+flux2)\n",
    "frac2 = flux2/(flux1+flux2)\n",
    "print frac1, frac2\n",
    "# What does this mean for the transit depth (radius ratio^2)?\n",
    "adj_radius = math.sqrt(1/frac1)\n",
    "print adj_radius"
   ]
  },
  {
   "cell_type": "code",
   "execution_count": null,
   "metadata": {
    "collapsed": true
   },
   "outputs": [],
   "source": []
  },
  {
   "cell_type": "code",
   "execution_count": 296,
   "metadata": {
    "collapsed": true
   },
   "outputs": [],
   "source": [
    "# Option C: Infer Teff from B-V\n",
    "# Boyajian 2012b has Teff from B-V (for G-K-M stars)\n",
    "\n",
    "def teff_from_bminusv(bMinusV):\n",
    "    # from Boyajian 2012a, but NOT good for Mdwarfs!\n",
    "    # log_teff =3.9680- 0.2633*bMinusV - 3.2195*bMinusV**2 + 15.3548*bMinusV**3 - 27.2901*bMinusV**4 + 19.9193*bMinusV**5 - 4.5127*bMinusV**6\n",
    "    # teff = 10**log_teff\n",
    "    if bMinusV == None:\n",
    "        return None\n",
    "    else:\n",
    "        teff = 8010 - 4095*bMinusV + 819*bMinusV**2 +133*bMinusV**3 + 39*bMinusV**4 - 362*bMinusV**5\n",
    "        return round(teff)"
   ]
  },
  {
   "cell_type": "markdown",
   "metadata": {},
   "source": [
    "# Which objects have which Teff values?"
   ]
  },
  {
   "cell_type": "code",
   "execution_count": 297,
   "metadata": {
    "collapsed": false
   },
   "outputs": [
    {
     "name": "stdout",
     "output_type": "stream",
     "text": [
      "Object Best Err Source\n",
      "201264302 3299.0 32 EPIC 5.106 0.026 0.155 0.05\n",
      "201606542 5540.0 108.0 McDonald 4.81 0.12 0.03 0.04\n",
      "201637175 3830 100 Literature spectra 4.65 0.12 0.03 0.08\n",
      "201650711 4340.0 103.0 McDonald 4.25 0.42 -0.81 0.08\n",
      "202094740 6481.0 25.0 TESS/Vanderbilt None None None None\n",
      "203533312 6620.0 86.0 McDonald 4.19 0.12 0.09 0.05\n",
      "205152172 4202.0 242 EPIC 4.758 0.042 -0.04 0.2\n",
      "206103150 5565.0 60.0 Literature spectra 4.29 0.07 0.43 0.04\n",
      "206151047 5928.0 120 EPIC 4.247 0.18 -0.169 0.24\n",
      "206169375 6167.0 122 EPIC 4.16 0.165 -0.168 0.2\n",
      "206298289 3724.0 59 EPIC 4.942 0.055 0.017 0.05\n",
      "206417197 5007.0 151 EPIC 4.587 0.035 -0.063 0.12\n",
      "210414957 5838.0 102.0 McDonald 4.12 0.14 0.3 0.07\n",
      "210605073 7020.0 500.0 Inferred from photometry None None None None\n",
      "210707130 4462.0 84.0 McDonald 4.17 0.18 -0.28 0.1\n",
      "210754505 5875.0 103.0 McDonald 4.04 0.19 0.04 0.05\n",
      "210954046 6125.0 202.4 McDonald 3.0 0.58 0.0 0.16\n",
      "210961508 4925.0 45.0 McDonald 3.42 0.08 -0.06 0.07\n",
      "211152484 6188.0 67.0 McDonald 4.12 0.15 -0.12 0.06\n",
      "211357309 3563.0 57 EPIC 5.004 0.048 0.097 0.08\n",
      "211685045 3832.0 214 EPIC 4.9 0.075 -0.058 0.15\n",
      "211995325 4071.0 477 EPIC 4.838 0.155 -0.202 0.2\n",
      "212150006 5528.0 163 EPIC 4.482 0.065 -0.281 0.25\n"
     ]
    }
   ],
   "source": [
    "catalog_used=[]; follow_teff=[]; follow_teff_err=[]\n",
    "follow_logg=[]; follow_logg_err=[]; follow_feh=[]; follow_feh_err=[]\n",
    "\n",
    "#print \"Object\", \"EPIC\", \"TESS\",\"McD\",\"Lit\"\n",
    "print \"Object\",\"Best\",\"Err\",\"Source\"\n",
    "for ii,ff in enumerate(follow_list):\n",
    "    # Okay, here's the order of preference\n",
    "    #(1) McDonal Teff (measured by us)\n",
    "    #(2) Lit Teff (measured)\n",
    "    #(3) EPIC catalog\n",
    "    #(4) TESS/Vanderbilt\n",
    "    #(5) Infer from photometry if all else fails\n",
    "    if ff in observed:\n",
    "        obs_ind = observed.index(ff)\n",
    "        best = observed_teff[obs_ind]\n",
    "        best_err = observed_teff_err[obs_ind]\n",
    "        best_logg = observed_logg[obs_ind]\n",
    "        best_logg_err = observed_logg_err[obs_ind]\n",
    "        best_feh = observed_feh[obs_ind]\n",
    "        best_feh_err = observed_feh_err[obs_ind]\n",
    "        source = \"McDonald\"\n",
    "    elif ff in lit_teff_objects:\n",
    "        lit_ind = lit_teff_objects.index(ff)\n",
    "        best = lit_teffs[lit_ind]\n",
    "        best_err = lit_teff_errs[lit_ind]\n",
    "        best_logg = lit_logg[lit_ind]\n",
    "        best_logg_err = lit_logg_err[lit_ind]\n",
    "        best_feh = lit_feh[lit_ind]\n",
    "        best_feh_err = lit_feh_err[lit_ind]\n",
    "        source = \"Literature spectra\"\n",
    "    elif epic_teff_list[ii] != None:\n",
    "        best = epic_teff_list[ii]\n",
    "     #   best_err = epic_teff_err_list[ii]  # Maybe when MAST gets these values again\n",
    "        best_err = eval(exo_teff_err[ii]) # From ExoFOP instead (note that it's a fixed file)\n",
    "        best_logg = eval(exo_logg[ii])\n",
    "        best_logg_err = eval(exo_logg_err[ii])\n",
    "        best_feh = eval(exo_feh[ii])\n",
    "        best_feh_err = eval(exo_feh_err[ii])\n",
    "        source = \"EPIC\"\n",
    "    elif ff in tess_epic_nums:\n",
    "        tess_ind = tess_epic_nums.index(ff)\n",
    "        best = eval(tess_teffs[tess_ind])\n",
    "        best_err = eval(tess_teff_errs[tess_ind])\n",
    "        best_logg = None\n",
    "        best_logg_err = None\n",
    "        best_feh = None\n",
    "        best_feh_err = None\n",
    "        source = \"TESS/Vanderbilt\"\n",
    "    elif ff in infer_teff_objects:\n",
    "        infer_ind = infer_teff_objects.index(ff)\n",
    "        best = infer_teffs[infer_ind]\n",
    "        best_err = infer_teff_err[infer_ind]\n",
    "        best_logg = None\n",
    "        best_logg_err = None\n",
    "        best_feh = None\n",
    "        best_feh_err = None\n",
    "        source = \"Inferred from photometry\"\n",
    "    else:\n",
    "        best = None\n",
    "        best_err = None\n",
    "        best_logg = None\n",
    "        best_logg_err = None\n",
    "        best_feh = None\n",
    "        best_feh_err = None\n",
    "        source = \"none\"\n",
    "        \n",
    "    catalog_used.append(source)\n",
    "    follow_teff.append(best)\n",
    "    follow_teff_err.append(best_err)\n",
    "    follow_logg.append(best_logg)\n",
    "    follow_logg_err.append(best_logg_err)\n",
    "    follow_feh.append(best_feh)\n",
    "    follow_feh_err.append(best_feh_err)\n",
    "    print ff, best, best_err, source, best_logg, best_logg_err, best_feh, best_feh_err"
   ]
  },
  {
   "cell_type": "markdown",
   "metadata": {},
   "source": [
    "# Beyond Teff: R*"
   ]
  },
  {
   "cell_type": "markdown",
   "metadata": {},
   "source": [
    "Which stars already have nominal radius values from EPIC catalog?"
   ]
  },
  {
   "cell_type": "code",
   "execution_count": 298,
   "metadata": {
    "collapsed": false
   },
   "outputs": [
    {
     "name": "stdout",
     "output_type": "stream",
     "text": [
      "201264302 0.188 0.004\n",
      "201606542 0.851 0.061\n",
      "201637175 0.382 0.069\n",
      "201650711 0.34 0.047\n",
      "202094740  \n",
      "203533312 2.028 0.925\n",
      "205152172 0.531 0.087\n",
      "206103150 1.104 0.319\n",
      "206151047 1.226 0.546\n",
      "206169375 1.384 0.415\n",
      "206298289 0.333 0.027\n",
      "206417197 0.75 0.039\n",
      "210414957 2.319 0.233\n",
      "210605073  \n",
      "210707130 0.507 0.076\n",
      "210754505 1.318 0.313\n",
      "210954046  \n",
      "210961508 2.589 0.512\n",
      "211152484 1.214 0.347\n",
      "211357309 0.272 0.028\n",
      "211685045 0.376 0.083\n",
      "211995325 0.417 0.156\n",
      "212150006 0.896 1.298\n"
     ]
    }
   ],
   "source": [
    "for ii in range(len(follow_list)):\n",
    "    print follow_list[ii], exo_rstar[ii],exo_rstar_err[ii]"
   ]
  },
  {
   "cell_type": "markdown",
   "metadata": {},
   "source": [
    "# Derive R* using Boyajian 2012b"
   ]
  },
  {
   "cell_type": "code",
   "execution_count": 299,
   "metadata": {
    "collapsed": false
   },
   "outputs": [],
   "source": [
    "# Can get R* directly from Teff (Boyajian 2012b eqn 9 and Table 10)\n",
    "# Note that eqn 8 in that paper is only from 3200-5500 K, but the one we use\n",
    "# has had the sun added in to extend to g like stars\n",
    "#  if 3200 <= teff <= 5500:\n",
    "#      -10.8828 + 7.18727*10**-3*teff - 1.50957*10**-6*teff**2+ 1.07572*10**-10*teff**3\n",
    "def rstar_from_teff(teff):    \n",
    "    return -8.133 + 5.09342*10**-3*teff - 9.86602*10**-7*teff**2 + 6.47963*10**-11*teff**3"
   ]
  },
  {
   "cell_type": "code",
   "execution_count": 300,
   "metadata": {
    "collapsed": true
   },
   "outputs": [],
   "source": [
    "def rstar_from_teff_err(teff, teff_err):\n",
    "    nom=rstar_from_teff(teff)\n",
    "    err1=rstar_from_teff(teff+teff_err)\n",
    "    err2=rstar_from_teff(teff-teff_err)\n",
    "    # We are adding in 0.031 R_star for the median absolute error reported in Boyajian2012b\n",
    "    model_mad = 0.031\n",
    "    max_err = max(abs(nom-err1), abs(nom-err2))\n",
    "    return max_err+model_mad"
   ]
  },
  {
   "cell_type": "code",
   "execution_count": 301,
   "metadata": {
    "collapsed": false
   },
   "outputs": [
    {
     "name": "stdout",
     "output_type": "stream",
     "text": [
      "0.858010142089 0.0733766371575\n"
     ]
    }
   ],
   "source": [
    "# Hmm, the sun still comes out a bit small\n",
    "print rstar_from_teff(5778), rstar_from_teff_err(5778,200)"
   ]
  },
  {
   "cell_type": "code",
   "execution_count": 332,
   "metadata": {
    "collapsed": false
   },
   "outputs": [],
   "source": [
    "follow_rstar=[]; follow_rstar_err=[]\n",
    "boyajian_rstar_for_epic_teff=[]; boyajian_rstar_err=[]\n",
    "for ii in range(len(follow_list)):\n",
    "    # A separate list to compare estimate R* for the EPIC values where available\n",
    "    if exo_teff[ii] != \"\":\n",
    "        boyajian_rstar_for_epic_teff.append(rstar_from_teff(eval(exo_teff[ii])))\n",
    "        boyajian_rstar_err.append(rstar_from_teff_err(eval(exo_teff[ii]),eval(exo_teff_err[ii])))\n",
    "    else:\n",
    "        boyajian_rstar_for_epic_teff.append(0.)\n",
    "        boyajian_rstar_err.append(0.)\n",
    "    # First off, defer to literature value if we've selected to above:\n",
    "    if follow_list[ii] in has_lit_rstar_objects:\n",
    "        ind = has_lit_rstar_objects.index(follow_list[ii])\n",
    "        follow_rstar.append(has_lit_rstar[ind])\n",
    "        follow_rstar_err.append(has_lit_rstar_err[ind])\n",
    "    # Otherwise using our best Teff\n",
    "    else:\n",
    "        follow_rstar.append(rstar_from_teff(follow_teff[ii]))\n",
    "        follow_rstar_err.append(rstar_from_teff_err(follow_teff[ii],follow_teff_err[ii]))"
   ]
  },
  {
   "cell_type": "markdown",
   "metadata": {},
   "source": [
    "Compare R* from EPIC to that derived from the EPIC Teff  (NOT the best Teff)"
   ]
  },
  {
   "cell_type": "code",
   "execution_count": 333,
   "metadata": {
    "collapsed": false
   },
   "outputs": [
    {
     "name": "stdout",
     "output_type": "stream",
     "text": [
      "201264302 EPIC 0.188 0.004 Boyajian 0.259 0.054 Diff 0.07+/-0.05\n",
      "201606542 EPIC 0.851 0.061 Boyajian 0.796 0.048 Diff -0.06+/-0.08\n",
      "201637175 EPIC 0.382 0.069 Boyajian 0.556 0.066 Diff 0.17+/-0.10\n",
      "201650711 EPIC 0.34 0.047 Boyajian 0.496 0.082 Diff 0.16+/-0.09\n",
      "202094740 EPIC   Boyajian 0.0 0.0 \n",
      "203533312 EPIC 2.028 0.925 Boyajian 1.463 0.504 Diff -0.6+/-1.1\n",
      "205152172 EPIC 0.531 0.087 Boyajian 0.657 0.099 Diff 0.13+/-0.13\n",
      "206103150 EPIC 1.104 0.319 Boyajian 0.894 0.058 Diff -0.21+/-0.32\n",
      "206151047 EPIC 1.226 0.546 Boyajian 0.889 0.061 Diff -0.3+/-0.5\n",
      "206169375 EPIC 1.384 0.415 Boyajian 0.953 0.073 Diff -0.4+/-0.4\n",
      "206298289 EPIC 0.333 0.027 Boyajian 0.499 0.058 Diff 0.17+/-0.06\n",
      "206417197 EPIC 0.75 0.039 Boyajian 0.769 0.045 Diff 0.02+/-0.06\n",
      "210414957 EPIC 2.319 0.233 Boyajian 0.806 0.041 Diff -1.51+/-0.24\n",
      "210605073 EPIC   Boyajian 0.0 0.0 \n",
      "210707130 EPIC 0.507 0.076 Boyajian 0.672 0.067 Diff 0.16+/-0.10\n",
      "210754505 EPIC 1.318 0.313 Boyajian 0.916 0.066 Diff -0.40+/-0.32\n",
      "210954046 EPIC   Boyajian 0.0 0.0 \n",
      "210961508 EPIC 2.589 0.512 Boyajian 0.773 0.045 Diff -1.8+/-0.5\n",
      "211152484 EPIC 1.214 0.347 Boyajian 0.902 0.104 Diff -0.3+/-0.4\n",
      "211357309 EPIC 0.272 0.028 Boyajian 0.421 0.062 Diff 0.15+/-0.07\n",
      "211685045 EPIC 0.376 0.083 Boyajian 0.544 0.125 Diff 0.17+/-0.15\n",
      "211995325 EPIC 0.417 0.156 Boyajian 0.623 0.217 Diff 0.21+/-0.27\n",
      "212150006 EPIC 0.896 1.298 Boyajian 0.82 0.054 Diff -0.1+/-1.3\n"
     ]
    }
   ],
   "source": [
    "sig_dif_obj=[]\n",
    "for ii in range(len(follow_list)):\n",
    "    print follow_list[ii], \"EPIC\",exo_rstar[ii], exo_rstar_err[ii],\n",
    "    print \"Boyajian\",round(boyajian_rstar_for_epic_teff[ii],3), round(boyajian_rstar_err[ii],3),\n",
    "    if exo_rstar[ii] != \"\":\n",
    "        boyajian_u = ufloat(boyajian_rstar_for_epic_teff[ii], boyajian_rstar_err[ii])\n",
    "        exo_u = ufloat(exo_rstar[ii], exo_rstar_err[ii])\n",
    "        print \"Diff\",boyajian_u - exo_u \n",
    "        if abs((boyajian_u - exo_u).nominal_value) > 3. * (boyajian_u - exo_u).std_dev:\n",
    "            sig_dif_obj.append(follow_list[ii])\n",
    "    else:\n",
    "        print \"\""
   ]
  },
  {
   "cell_type": "code",
   "execution_count": 334,
   "metadata": {
    "collapsed": false
   },
   "outputs": [
    {
     "name": "stdout",
     "output_type": "stream",
     "text": [
      "210414957 EPIC 2.319 3.779 Measured 4.12 0.14\n",
      "210961508 EPIC 2.589 3.64 Measured 3.42 0.08\n"
     ]
    }
   ],
   "source": [
    "# Only two are significant, and, surprise, both are subgiants (according to EPIC):\n",
    "for ii in range(len(follow_list)):\n",
    "    if follow_list[ii] in sig_dif_obj:\n",
    "        print follow_list[ii], \"EPIC\",exo_rstar[ii], exo_logg[ii],\n",
    "# Did McDonald agree?\n",
    "        if follow_list[ii] in observed:\n",
    "            ind = observed.index(follow_list[ii])\n",
    "            print \"Measured\",observed_logg[ind],observed_logg_err[ind]\n",
    "        else:\n",
    "            print \"\""
   ]
  },
  {
   "cell_type": "markdown",
   "metadata": {},
   "source": [
    "## What is the maximum planetary-sized radius ratio around this star?"
   ]
  },
  {
   "cell_type": "code",
   "execution_count": 335,
   "metadata": {
    "collapsed": false
   },
   "outputs": [
    {
     "name": "stdout",
     "output_type": "stream",
     "text": [
      "201264302 3299.0 0.259075765996 Max rr: 0.771974944208\n",
      "201606542 5540.0 0.821562607583 Max rr: 0.24343853792\n",
      "201637175 3830 0.542810926818 Max rr: 0.368452420758\n",
      "201650711 4340.0 0.686073165935 Max rr: 0.291514097811\n",
      "202094740 6481.0 1.07594893782 Max rr: 0.185882427102\n",
      "203533312 6620.0 1.14674209075 Max rr: 0.174407132706\n",
      "205152172 4202.0 0.656802281036 Max rr: 0.304505641613\n",
      "206103150 5565.0 1.15 Max rr: 0.173913043478\n",
      "206151047 5928.0 0.888598201688 Max rr: 0.225073604268\n",
      "206169375 6167.0 0.953279914184 Max rr: 0.209801965849\n",
      "206298289 3724.0 0.4989364803 Max rr: 0.400852629336\n",
      "206417197 5007.0 0.769196661508 Max rr: 0.260011528922\n",
      "210414957 5838.0 0.869434370778 Max rr: 0.230034614138\n",
      "210605073 7020.0 1.41884402849 Max rr: 0.140959820801\n",
      "210707130 4462.0 0.707382933232 Max rr: 0.282732294779\n",
      "210754505 5875.0 0.877005997852 Max rr: 0.228048611401\n",
      "210954046 6125.0 0.940308208398 Max rr: 0.21269621834\n",
      "210961508 4925.0 0.761943528123 Max rr: 0.262486644506\n",
      "211152484 6188.0 0.960044699962 Max rr: 0.208323633272\n",
      "211357309 3563.0 0.420851206262 Max rr: 0.475227341693\n",
      "211685045 3832.0 0.543584998997 Max rr: 0.367927739671\n",
      "211995325 4071.0 0.623049262806 Max rr: 0.321001904567\n",
      "212150006 5528.0 0.820039786177 Max rr: 0.243890605518\n"
     ]
    }
   ],
   "source": [
    "max_planet_radius = 0.2 # 2 RJup\n",
    "for ii in range(len(follow_list)):\n",
    "    if follow_rstar[ii] > 0:\n",
    "        print follow_list[ii], follow_teff[ii], follow_rstar[ii],  \"Max rr:\",max_planet_radius/follow_rstar[ii]"
   ]
  },
  {
   "cell_type": "code",
   "execution_count": 336,
   "metadata": {
    "collapsed": false
   },
   "outputs": [
    {
     "name": "stdout",
     "output_type": "stream",
     "text": [
      "201264302 R_* 0.259075765996 0.0537375590613\n",
      "201606542 R_* 0.821562607583 0.0459564596966\n",
      "201637175 R_* 0.542810926818 0.072237722951\n",
      "201650711 R_* 0.686073165935 0.052275464597\n",
      "202094740 R_* 1.07594893782 0.0429235831576\n",
      "203533312 R_* 1.14674209075 0.0805435146063\n",
      "205152172 R_* 0.656802281036 0.0985627582391\n",
      "206103150 R_* 1.15 0.04\n",
      "206151047 R_* 0.888598201688 0.0607772926098\n",
      "206169375 R_* 0.953279914184 0.0730290168372\n",
      "206298289 R_* 0.4989364803 0.0579483977368\n",
      "206417197 R_* 0.769196661508 0.0446522201427\n",
      "210414957 R_* 0.869434370778 0.0529156822613\n",
      "210605073 R_* 1.41884402849 0.54414689078\n",
      "210707130 R_* 0.707382933232 0.0452490818372\n",
      "210754505 R_* 0.877005997852 0.054380781395\n",
      "210954046 R_* 0.940308208398 0.100649216187\n",
      "210961508 R_* 0.761943528123 0.0351337641298\n",
      "211152484 R_* 0.960044699962 0.053875628072\n",
      "211357309 R_* 0.420851206262 0.0622145342864\n",
      "211685045 R_* 0.543584998997 0.125426308748\n",
      "211995325 R_* 0.623049262806 0.217028343337\n",
      "212150006 R_* 0.820039786177 0.0541295340304\n"
     ]
    }
   ],
   "source": [
    "for ii in range(len(follow_list)):\n",
    "    print follow_list[ii],\"R_*\",follow_rstar[ii], follow_rstar_err[ii]"
   ]
  },
  {
   "cell_type": "markdown",
   "metadata": {
    "collapsed": true
   },
   "source": [
    "# Limb darkening (Claret 2011 tables, interpolated)"
   ]
  },
  {
   "cell_type": "code",
   "execution_count": 324,
   "metadata": {
    "collapsed": false
   },
   "outputs": [],
   "source": [
    "### Read in ld params for Kep filter and chosen microturbulent velocity\n",
    "# Takes 5-10 sec because full file is BIG (lots of filters/velocities)\n",
    "# We are assuming Fe/H == Z = 0 and microturbulent velocity = 2 km/s (by default)\n",
    "xi = 2.0\n",
    "\n",
    "# Other values are possible in the full file\n",
    "quad_claret_file = superpig_dir+\"data_from_catalogs/claret2011_table-af.tsv\"\n",
    "gg = open(quad_claret_file,\"r\")\n",
    "lines = gg.readlines()\n",
    "gg.close()\n",
    "claret_logg_grid=[]; claret_teff_grid=[]; claret_feh_grid=[]\n",
    "claret_u1_quad_grid=[]; claret_u2_quad_grid=[]\n",
    "micros=[]\n",
    "for line in lines[53:]: ## lots of headers\n",
    "    elems = line.rstrip().split(\"\\t\")\n",
    "    filt = elems[6]\n",
    "    metallicity = eval(elems[2]) # Oh dear, these were originally reversed...\n",
    "    microturb = eval(elems[3])\n",
    "    if filt == \"Kp\":\n",
    "        micros.append(microturb)\n",
    "        if microturb == xi:\n",
    "            claret_logg_grid.append(eval(elems[0]))\n",
    "            claret_teff_grid.append(eval(elems[1]))\n",
    "            claret_feh_grid.append(eval(elems[2]))\n",
    "            claret_u1_quad_grid.append(eval(elems[4]))\n",
    "            claret_u2_quad_grid.append(eval(elems[5]))"
   ]
  },
  {
   "cell_type": "code",
   "execution_count": 325,
   "metadata": {
    "collapsed": false
   },
   "outputs": [
    {
     "name": "stdout",
     "output_type": "stream",
     "text": [
      "15670 446329\n",
      "Microturb set([0.0, 1.0, 2.0, 4.0, 8.0])\n",
      "logg [0.0, 0.5, 1.0, 1.5, 2.0, 2.5, 3.0, 3.5, 4.0, 4.5, 5.0]\n",
      "Fe/H [-5.0, -4.5, -4.0, -3.5, -3.0, -2.5, -2.0, -1.5, -1.0, -0.5, -0.3, -0.2, -0.1, 0.0, 0.1, 0.2, 0.3, 0.5, 1.0]\n",
      "2000 50000\n"
     ]
    }
   ],
   "source": [
    "print len(claret_logg_grid), len(lines)\n",
    "print \"Microturb\", set(micros)\n",
    "all_logg = sorted(list(set(claret_logg_grid)))\n",
    "all_feh = sorted(list(set(claret_feh_grid)))\n",
    "all_teff = sorted(list(set(claret_teff_grid)))\n",
    "print \"logg\",all_logg\n",
    "print \"Fe/H\",all_feh\n",
    "#print \"Teff\",all_teff\n",
    "print min(claret_teff_grid), max(claret_teff_grid)"
   ]
  },
  {
   "cell_type": "code",
   "execution_count": 326,
   "metadata": {
    "collapsed": false
   },
   "outputs": [],
   "source": [
    "# Following http://docs.scipy.org/doc/scipy/reference/generated/scipy.interpolate.griddata.html#scipy.interpolate.griddata\n",
    "# because griddata does not require regular spacing\n",
    "# and the different Teffs are defined for differnt logg/FeH values\n",
    "from scipy.interpolate import griddata\n",
    "\n",
    "# We need arrays for each point at which we have data in Teff, logg, and Fe/H space\n",
    "grid_points = []\n",
    "for ii in range(len(claret_teff_grid)):\n",
    "    grid_points.append(np.array([claret_teff_grid[ii],\n",
    "                                 claret_logg_grid[ii], claret_feh_grid[ii]]))"
   ]
  },
  {
   "cell_type": "code",
   "execution_count": 327,
   "metadata": {
    "collapsed": false
   },
   "outputs": [
    {
     "name": "stdout",
     "output_type": "stream",
     "text": [
      "201264302 3299.0 5.0 0.155 [ 0.416774] [ 0.3719065]\n",
      "201606542 5540.0 4.81 0.03 [ 0.484344] [ 0.192602]\n",
      "201637175 3830 4.65 0.03 [ 0.59762] [ 0.157]\n",
      "201650711 4340.0 4.25 -0.81 [ 0.512576] [ 0.219108]\n",
      "202094740 6481.0 4.0 0.0 [ 0.297] [ 0.3125768]\n",
      "203533312 6620.0 4.19 0.09 [ 0.296744] [ 0.30762]\n",
      "205152172 4202.0 4.758 -0.04 [ 0.7146192] [ 0.0665752]\n",
      "206103150 5565.0 4.29 0.43 [ 0.5246762] [ 0.1718304]\n",
      "206151047 5928.0 4.247 -0.169 [ 0.3878728] [ 0.2572662]\n",
      "206169375 6167.0 4.16 -0.168 [ 0.3258132] [ 0.298718]\n",
      "206298289 3724.0 4.942 0.017 [ 0.35498167] [ 0.35813367]\n",
      "206417197 5007.0 4.587 -0.063 [ 0.5711226] [ 0.1407397]\n",
      "210414957 5838.0 4.12 0.3 [ 0.4643408] [ 0.2162188]\n",
      "210605073 7020.0 4.0 0.0 [ 0.29476] [ 0.28246]\n",
      "210707130 4462.0 4.17 -0.28 [ 0.668604] [ 0.089691]\n",
      "210754505 5875.0 4.04 0.04 [ 0.432598] [ 0.2301915]\n",
      "210954046 6125.0 3.0 0.0 [ 0.35825] [ 0.2623]\n",
      "210961508 4925.0 3.42 -0.06 [ 0.5599495] [ 0.1535065]\n",
      "211152484 6188.0 4.12 -0.12 [ 0.340992] [ 0.278184]\n",
      "211357309 3563.0 5.0 0.097 [ 0.39864] [ 0.340156]\n",
      "211685045 3832.0 4.9 -0.058 [ 0.429415] [ 0.298284]\n",
      "211995325 4071.0 4.838 -0.202 [ 0.4524588] [ 0.25903375]\n",
      "212150006 5528.0 4.482 -0.281 [ 0.4384518] [ 0.2300388]\n"
     ]
    }
   ],
   "source": [
    "# Takes ~1sec per obj\n",
    "follow_u1=[]; follow_u2=[]\n",
    "for ii in range(len(follow_list)):\n",
    "    obj = follow_list[ii]\n",
    "    feh = follow_feh[ii]\n",
    "    teff = follow_teff[ii]\n",
    "    logg = follow_logg[ii]\n",
    "    # Will have problems if numbers are slightly out of bounds\n",
    "    if teff < min(all_teff):\n",
    "        teff = min(all_teff) # Mdwarfs!\n",
    "    if logg > max(all_logg):\n",
    "        logg = max(all_logg) # there are some 5.1s\n",
    "    # Will also have a problem with nans\n",
    "    if logg == None:\n",
    "        logg = 4.0\n",
    "    if feh == None:\n",
    "        feh = 0.0\n",
    "    \n",
    "    grid_u1 = griddata(grid_points, np.array(claret_u1_quad_grid),\n",
    "                       np.array([teff, logg, feh]), method=\"linear\")\n",
    "    grid_u2 = griddata(grid_points, np.array(claret_u2_quad_grid),\n",
    "                       np.array([teff, logg, feh]), method=\"linear\")\n",
    "    follow_u1.append(grid_u1[0])\n",
    "    follow_u2.append(grid_u2[0])\n",
    "    print obj, teff, logg, feh, grid_u1, grid_u2"
   ]
  },
  {
   "cell_type": "code",
   "execution_count": 328,
   "metadata": {
    "collapsed": false
   },
   "outputs": [
    {
     "name": "stdout",
     "output_type": "stream",
     "text": [
      "[0.41677399999999998, 0.484344, 0.59761999999999982, 0.51257600000000003, 0.29699999999999999, 0.29674400000000001, 0.71461920000000001, 0.52467620000000004, 0.38787279999999996, 0.32581319999999997, 0.35498166666666658, 0.57112260000000004, 0.46434080000000005, 0.29476000000000002, 0.66860399999999998, 0.43259800000000004, 0.35825000000000001, 0.55994949999999999, 0.34099199999999996, 0.39863999999999999, 0.42941499999999982, 0.45245879999999994, 0.43845179999999995]\n"
     ]
    }
   ],
   "source": [
    "print follow_u1"
   ]
  },
  {
   "cell_type": "markdown",
   "metadata": {},
   "source": [
    "# Output stellar properties for later reference"
   ]
  },
  {
   "cell_type": "code",
   "execution_count": 337,
   "metadata": {
    "collapsed": false
   },
   "outputs": [],
   "source": [
    "star_param_file = results_dir+\"star_params_all.tsv\""
   ]
  },
  {
   "cell_type": "code",
   "execution_count": 338,
   "metadata": {
    "collapsed": false
   },
   "outputs": [],
   "source": [
    "gg = open(star_param_file,\"w\")\n",
    "print >>gg, \"\\t\".join([\"Candidate\",\"RA_degrees\",\"Dec_degrees\",\n",
    "                       \"Kepmag\",\"Teff\",\"Teff_err\",\n",
    "                       \"logg\",\"logg_err\",\"Fe/H\",\"Fe/H_err\",\n",
    "                       \"Rstar\",\"Rstar_err\",\"ld_u1\",\"ld_u2\",\"Is_dwarf\",\"Source\"])\n",
    "for ii in range(len(follow_list)):\n",
    "    if follow_feh[ii] == None:\n",
    "        follow_feh[ii] = 0.0\n",
    "        follow_feh_err[ii] = 0.0\n",
    "    if follow_logg[ii] == None:\n",
    "        follow_logg[ii] = 4.0\n",
    "        follow_logg_err[ii] = 0.0\n",
    "    \n",
    "    print >>gg, \"\\t\".join([str(follow_list[ii]), str(star_ra_list[ii]), str(star_dec_list[ii]),\n",
    "                           str(kepmag_list[ii]), str(follow_teff[ii]), str(follow_teff_err[ii]),\n",
    "                           str(follow_logg[ii]), str(follow_logg_err[ii]), \n",
    "                           str(follow_feh[ii]), str(follow_feh_err[ii]), \n",
    "                           str(round(follow_rstar[ii],2)),str(round(follow_rstar_err[ii],2)),\n",
    "                           str(round(follow_u1[ii],4)), str(round(follow_u2[ii],4)),\n",
    "                           str(is_dwarf[ii]), catalog_used[ii]])\n",
    "gg.close()"
   ]
  },
  {
   "cell_type": "code",
   "execution_count": 339,
   "metadata": {
    "collapsed": false
   },
   "outputs": [
    {
     "data": {
      "text/plain": [
       "[201264302,\n",
       " 201606542,\n",
       " 201637175,\n",
       " 201650711,\n",
       " 202094740,\n",
       " 203533312,\n",
       " 205152172,\n",
       " 206103150,\n",
       " 206151047,\n",
       " 206169375,\n",
       " 206298289,\n",
       " 206417197,\n",
       " 210414957,\n",
       " 210605073,\n",
       " 210707130,\n",
       " 210754505,\n",
       " 210954046,\n",
       " 210961508,\n",
       " 211152484,\n",
       " 211357309,\n",
       " 211685045,\n",
       " 211995325,\n",
       " 212150006]"
      ]
     },
     "execution_count": 339,
     "metadata": {},
     "output_type": "execute_result"
    }
   ],
   "source": [
    "follow_list"
   ]
  },
  {
   "cell_type": "markdown",
   "metadata": {
    "collapsed": true
   },
   "source": [
    "# Some quick numbers"
   ]
  },
  {
   "cell_type": "code",
   "execution_count": 340,
   "metadata": {
    "collapsed": false
   },
   "outputs": [
    {
     "name": "stdout",
     "output_type": "stream",
     "text": [
      "4501.0 5278.0\n"
     ]
    }
   ],
   "source": [
    "# Data from https://exofop.ipac.caltech.edu/k2/edit_target.php?id=203533312\n",
    "vmag = 12.536# ± 0.020\n",
    "jmag = 10.367# ± 0.024\n",
    "kmag = 9.847# ± 0.024\n",
    "vk = vmag-kmag\n",
    "jk = jmag-kmag\n",
    "vk_teff = float(interp_vk(vk))\n",
    "jk_teff = float(interp_jk(jk))\n",
    "print vk_teff, jk_teff\n"
   ]
  },
  {
   "cell_type": "code",
   "execution_count": 341,
   "metadata": {
    "collapsed": false
   },
   "outputs": [
    {
     "name": "stdout",
     "output_type": "stream",
     "text": [
      "-0.037+/-0.008 -0.145+/-0.010 -0.266+/-0.021\n"
     ]
    }
   ],
   "source": [
    "# https://exofop.ipac.caltech.edu/k2/edit_target.php?id=210605073\n",
    "umag = 18.215# ± 0.014\t \t2015-04-09 12:34:05\tEPIC\n",
    "gmag = 17.859# ± 0.006\t \t2015-04-09 12:34:05\tEPIC\n",
    "rmag = 17.896# ± 0.006\t \t2015-04-09 12:34:05\tEPIC\n",
    "Kepmag = 17.887#\t \t2015-04-09 12:34:05\tEPIC\n",
    "imag = 18.004# ± 0.008\t \t2015-04-09 12:34:05\tEPIC\n",
    "zmag = 18.125# ± 0.020\t \t2015-04-09 12:34:05\tEPIC\n",
    "gr = ufloat(gmag,0.006) - ufloat(rmag,0.006)\n",
    "gi = ufloat(gmag,0.006) - ufloat(imag,0.008)\n",
    "gz = ufloat(gmag,0.006) - ufloat(zmag,0.020)\n",
    "print gr, gi, gz"
   ]
  },
  {
   "cell_type": "code",
   "execution_count": 342,
   "metadata": {
    "collapsed": false
   },
   "outputs": [
    {
     "name": "stdout",
     "output_type": "stream",
     "text": [
      "-0.069+/-0.008 -0.123+/-0.010 -0.155+/-0.021\n"
     ]
    }
   ],
   "source": [
    "# Compare to fiducial Teff table from ugriz photometry (http://arxiv.org/pdf/1110.4456.pdf)\n",
    "# Those are all off the table for Table 1 (Fe/H=-0.2), i.e., M > 1.5 M_sun\n",
    "table1_gr =  0.032\n",
    "table1_gi = -0.022\n",
    "table1_gz = -0.111\n",
    "\n",
    "print gr - table1_gr, gi - table1_gi, gz - table1_gz"
   ]
  },
  {
   "cell_type": "code",
   "execution_count": 343,
   "metadata": {
    "collapsed": false
   },
   "outputs": [
    {
     "data": {
      "text/plain": [
       "14.3"
      ]
     },
     "execution_count": 343,
     "metadata": {},
     "output_type": "execute_result"
    }
   ],
   "source": [
    "1.3*11"
   ]
  },
  {
   "cell_type": "code",
   "execution_count": 344,
   "metadata": {
    "collapsed": false
   },
   "outputs": [
    {
     "data": {
      "text/plain": [
       "0.8352631578947368"
      ]
     },
     "execution_count": 344,
     "metadata": {},
     "output_type": "execute_result"
    }
   ],
   "source": [
    "# How much did 201650711 increase by?\n",
    "orig_rp = 0.69 \n",
    "(0.69/0.57)*orig_rp"
   ]
  },
  {
   "cell_type": "code",
   "execution_count": 345,
   "metadata": {
    "collapsed": false
   },
   "outputs": [
    {
     "data": {
      "text/plain": [
       "4.49892"
      ]
     },
     "execution_count": 345,
     "metadata": {},
     "output_type": "execute_result"
    }
   ],
   "source": [
    "0.37491*24/2"
   ]
  },
  {
   "cell_type": "code",
   "execution_count": null,
   "metadata": {
    "collapsed": true
   },
   "outputs": [],
   "source": []
  }
 ],
 "metadata": {
  "kernelspec": {
   "display_name": "Python 2",
   "language": "python",
   "name": "python2"
  },
  "language_info": {
   "codemirror_mode": {
    "name": "ipython",
    "version": 2
   },
   "file_extension": ".py",
   "mimetype": "text/x-python",
   "name": "python",
   "nbconvert_exporter": "python",
   "pygments_lexer": "ipython2",
   "version": "2.7.9"
  }
 },
 "nbformat": 4,
 "nbformat_minor": 0
}
